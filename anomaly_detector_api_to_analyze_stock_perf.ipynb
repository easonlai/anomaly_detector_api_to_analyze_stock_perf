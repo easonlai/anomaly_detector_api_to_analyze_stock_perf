{
 "cells": [
  {
   "cell_type": "markdown",
   "metadata": {},
   "source": [
    "# Azure Anomaly Detector API to Analyze Stock Performance Data"
   ]
  },
  {
   "cell_type": "markdown",
   "metadata": {},
   "source": [
    "Define Azure Anomaly Detector API Endpoint and Subscription Key\n",
    "\n",
    "Read detail API documentation : https://westus2.dev.cognitive.microsoft.com/docs/services/AnomalyDetector/operations/post-timeseries-entire-detect"
   ]
  },
  {
   "cell_type": "code",
   "execution_count": 1,
   "metadata": {},
   "outputs": [],
   "source": [
    "# To start sending requests to the Anomaly Detector API, paste your subscription key you received after creating Anomaly Detector resource. \n",
    "subscription_key = 'PLEASE_ENTER_YOUR_OWN_AZURE_ANOMALY_DETECTOR_API_KEY' \n",
    "\n",
    "# Use the endpoint your received from overview section of the Anomaly Detector resource you created\n",
    "# the endpoint is like https://westus2.api.cognitive.microsoft.com/, different by regions, you need to concat anomalydetector/v1.0/timeseries/entire/detect\n",
    "\n",
    "endpoint = 'https://westus2.api.cognitive.microsoft.com/anomalydetector/v1.0/timeseries/entire/detect'"
   ]
  },
  {
   "cell_type": "markdown",
   "metadata": {},
   "source": [
    "Import necessary packages"
   ]
  },
  {
   "cell_type": "code",
   "execution_count": 2,
   "metadata": {},
   "outputs": [],
   "source": [
    "import requests\n",
    "import json\n",
    "import pandas as pd\n",
    "import numpy as np\n",
    "from __future__ import print_function\n",
    "import warnings\n",
    "warnings.filterwarnings('ignore')\n",
    "\n",
    "# Import library to display results\n",
    "import matplotlib.pyplot as plt\n",
    "%matplotlib inline "
   ]
  },
  {
   "cell_type": "code",
   "execution_count": 3,
   "metadata": {},
   "outputs": [
    {
     "data": {
      "text/html": [
       "\n",
       "    <div class=\"bk-root\">\n",
       "        <a href=\"https://bokeh.pydata.org\" target=\"_blank\" class=\"bk-logo bk-logo-small bk-logo-notebook\"></a>\n",
       "        <span id=\"8c06da9c-adbd-496d-9c7c-f35a5b15f1d5\">Loading BokehJS ...</span>\n",
       "    </div>"
      ]
     },
     "metadata": {},
     "output_type": "display_data"
    },
    {
     "data": {
      "application/javascript": [
       "\n",
       "(function(root) {\n",
       "  function now() {\n",
       "    return new Date();\n",
       "  }\n",
       "\n",
       "  var force = true;\n",
       "\n",
       "  if (typeof (root._bokeh_onload_callbacks) === \"undefined\" || force === true) {\n",
       "    root._bokeh_onload_callbacks = [];\n",
       "    root._bokeh_is_loading = undefined;\n",
       "  }\n",
       "\n",
       "  var JS_MIME_TYPE = 'application/javascript';\n",
       "  var HTML_MIME_TYPE = 'text/html';\n",
       "  var EXEC_MIME_TYPE = 'application/vnd.bokehjs_exec.v0+json';\n",
       "  var CLASS_NAME = 'output_bokeh rendered_html';\n",
       "\n",
       "  /**\n",
       "   * Render data to the DOM node\n",
       "   */\n",
       "  function render(props, node) {\n",
       "    var script = document.createElement(\"script\");\n",
       "    node.appendChild(script);\n",
       "  }\n",
       "\n",
       "  /**\n",
       "   * Handle when an output is cleared or removed\n",
       "   */\n",
       "  function handleClearOutput(event, handle) {\n",
       "    var cell = handle.cell;\n",
       "\n",
       "    var id = cell.output_area._bokeh_element_id;\n",
       "    var server_id = cell.output_area._bokeh_server_id;\n",
       "    // Clean up Bokeh references\n",
       "    if (id !== undefined) {\n",
       "      Bokeh.index[id].model.document.clear();\n",
       "      delete Bokeh.index[id];\n",
       "    }\n",
       "\n",
       "    if (server_id !== undefined) {\n",
       "      // Clean up Bokeh references\n",
       "      var cmd = \"from bokeh.io.state import curstate; print(curstate().uuid_to_server['\" + server_id + \"'].get_sessions()[0].document.roots[0]._id)\";\n",
       "      cell.notebook.kernel.execute(cmd, {\n",
       "        iopub: {\n",
       "          output: function(msg) {\n",
       "            var element_id = msg.content.text.trim();\n",
       "            Bokeh.index[element_id].model.document.clear();\n",
       "            delete Bokeh.index[element_id];\n",
       "          }\n",
       "        }\n",
       "      });\n",
       "      // Destroy server and session\n",
       "      var cmd = \"import bokeh.io.notebook as ion; ion.destroy_server('\" + server_id + \"')\";\n",
       "      cell.notebook.kernel.execute(cmd);\n",
       "    }\n",
       "  }\n",
       "\n",
       "  /**\n",
       "   * Handle when a new output is added\n",
       "   */\n",
       "  function handleAddOutput(event, handle) {\n",
       "    var output_area = handle.output_area;\n",
       "    var output = handle.output;\n",
       "\n",
       "    // limit handleAddOutput to display_data with EXEC_MIME_TYPE content only\n",
       "    if ((output.output_type != \"display_data\") || (!output.data.hasOwnProperty(EXEC_MIME_TYPE))) {\n",
       "      return\n",
       "    }\n",
       "\n",
       "    var toinsert = output_area.element.find(\".\" + CLASS_NAME.split(' ')[0]);\n",
       "\n",
       "    if (output.metadata[EXEC_MIME_TYPE][\"id\"] !== undefined) {\n",
       "      toinsert[0].firstChild.textContent = output.data[JS_MIME_TYPE];\n",
       "      // store reference to embed id on output_area\n",
       "      output_area._bokeh_element_id = output.metadata[EXEC_MIME_TYPE][\"id\"];\n",
       "    }\n",
       "    if (output.metadata[EXEC_MIME_TYPE][\"server_id\"] !== undefined) {\n",
       "      var bk_div = document.createElement(\"div\");\n",
       "      bk_div.innerHTML = output.data[HTML_MIME_TYPE];\n",
       "      var script_attrs = bk_div.children[0].attributes;\n",
       "      for (var i = 0; i < script_attrs.length; i++) {\n",
       "        toinsert[0].firstChild.setAttribute(script_attrs[i].name, script_attrs[i].value);\n",
       "      }\n",
       "      // store reference to server id on output_area\n",
       "      output_area._bokeh_server_id = output.metadata[EXEC_MIME_TYPE][\"server_id\"];\n",
       "    }\n",
       "  }\n",
       "\n",
       "  function register_renderer(events, OutputArea) {\n",
       "\n",
       "    function append_mime(data, metadata, element) {\n",
       "      // create a DOM node to render to\n",
       "      var toinsert = this.create_output_subarea(\n",
       "        metadata,\n",
       "        CLASS_NAME,\n",
       "        EXEC_MIME_TYPE\n",
       "      );\n",
       "      this.keyboard_manager.register_events(toinsert);\n",
       "      // Render to node\n",
       "      var props = {data: data, metadata: metadata[EXEC_MIME_TYPE]};\n",
       "      render(props, toinsert[0]);\n",
       "      element.append(toinsert);\n",
       "      return toinsert\n",
       "    }\n",
       "\n",
       "    /* Handle when an output is cleared or removed */\n",
       "    events.on('clear_output.CodeCell', handleClearOutput);\n",
       "    events.on('delete.Cell', handleClearOutput);\n",
       "\n",
       "    /* Handle when a new output is added */\n",
       "    events.on('output_added.OutputArea', handleAddOutput);\n",
       "\n",
       "    /**\n",
       "     * Register the mime type and append_mime function with output_area\n",
       "     */\n",
       "    OutputArea.prototype.register_mime_type(EXEC_MIME_TYPE, append_mime, {\n",
       "      /* Is output safe? */\n",
       "      safe: true,\n",
       "      /* Index of renderer in `output_area.display_order` */\n",
       "      index: 0\n",
       "    });\n",
       "  }\n",
       "\n",
       "  // register the mime type if in Jupyter Notebook environment and previously unregistered\n",
       "  if (root.Jupyter !== undefined) {\n",
       "    var events = require('base/js/events');\n",
       "    var OutputArea = require('notebook/js/outputarea').OutputArea;\n",
       "\n",
       "    if (OutputArea.prototype.mime_types().indexOf(EXEC_MIME_TYPE) == -1) {\n",
       "      register_renderer(events, OutputArea);\n",
       "    }\n",
       "  }\n",
       "\n",
       "  \n",
       "  if (typeof (root._bokeh_timeout) === \"undefined\" || force === true) {\n",
       "    root._bokeh_timeout = Date.now() + 5000;\n",
       "    root._bokeh_failed_load = false;\n",
       "  }\n",
       "\n",
       "  var NB_LOAD_WARNING = {'data': {'text/html':\n",
       "     \"<div style='background-color: #fdd'>\\n\"+\n",
       "     \"<p>\\n\"+\n",
       "     \"BokehJS does not appear to have successfully loaded. If loading BokehJS from CDN, this \\n\"+\n",
       "     \"may be due to a slow or bad network connection. Possible fixes:\\n\"+\n",
       "     \"</p>\\n\"+\n",
       "     \"<ul>\\n\"+\n",
       "     \"<li>re-rerun `output_notebook()` to attempt to load from CDN again, or</li>\\n\"+\n",
       "     \"<li>use INLINE resources instead, as so:</li>\\n\"+\n",
       "     \"</ul>\\n\"+\n",
       "     \"<code>\\n\"+\n",
       "     \"from bokeh.resources import INLINE\\n\"+\n",
       "     \"output_notebook(resources=INLINE)\\n\"+\n",
       "     \"</code>\\n\"+\n",
       "     \"</div>\"}};\n",
       "\n",
       "  function display_loaded() {\n",
       "    var el = document.getElementById(\"8c06da9c-adbd-496d-9c7c-f35a5b15f1d5\");\n",
       "    if (el != null) {\n",
       "      el.textContent = \"BokehJS is loading...\";\n",
       "    }\n",
       "    if (root.Bokeh !== undefined) {\n",
       "      if (el != null) {\n",
       "        el.textContent = \"BokehJS \" + root.Bokeh.version + \" successfully loaded.\";\n",
       "      }\n",
       "    } else if (Date.now() < root._bokeh_timeout) {\n",
       "      setTimeout(display_loaded, 100)\n",
       "    }\n",
       "  }\n",
       "\n",
       "\n",
       "  function run_callbacks() {\n",
       "    try {\n",
       "      root._bokeh_onload_callbacks.forEach(function(callback) { callback() });\n",
       "    }\n",
       "    finally {\n",
       "      delete root._bokeh_onload_callbacks\n",
       "    }\n",
       "    console.info(\"Bokeh: all callbacks have finished\");\n",
       "  }\n",
       "\n",
       "  function load_libs(js_urls, callback) {\n",
       "    root._bokeh_onload_callbacks.push(callback);\n",
       "    if (root._bokeh_is_loading > 0) {\n",
       "      console.log(\"Bokeh: BokehJS is being loaded, scheduling callback at\", now());\n",
       "      return null;\n",
       "    }\n",
       "    if (js_urls == null || js_urls.length === 0) {\n",
       "      run_callbacks();\n",
       "      return null;\n",
       "    }\n",
       "    console.log(\"Bokeh: BokehJS not loaded, scheduling load and callback at\", now());\n",
       "    root._bokeh_is_loading = js_urls.length;\n",
       "    for (var i = 0; i < js_urls.length; i++) {\n",
       "      var url = js_urls[i];\n",
       "      var s = document.createElement('script');\n",
       "      s.src = url;\n",
       "      s.async = false;\n",
       "      s.onreadystatechange = s.onload = function() {\n",
       "        root._bokeh_is_loading--;\n",
       "        if (root._bokeh_is_loading === 0) {\n",
       "          console.log(\"Bokeh: all BokehJS libraries loaded\");\n",
       "          run_callbacks()\n",
       "        }\n",
       "      };\n",
       "      s.onerror = function() {\n",
       "        console.warn(\"failed to load library \" + url);\n",
       "      };\n",
       "      console.log(\"Bokeh: injecting script tag for BokehJS library: \", url);\n",
       "      document.getElementsByTagName(\"head\")[0].appendChild(s);\n",
       "    }\n",
       "  };var element = document.getElementById(\"8c06da9c-adbd-496d-9c7c-f35a5b15f1d5\");\n",
       "  if (element == null) {\n",
       "    console.log(\"Bokeh: ERROR: autoload.js configured with elementid '8c06da9c-adbd-496d-9c7c-f35a5b15f1d5' but no matching script tag was found. \")\n",
       "    return false;\n",
       "  }\n",
       "\n",
       "  var js_urls = [\"https://cdn.pydata.org/bokeh/release/bokeh-0.12.13.min.js\", \"https://cdn.pydata.org/bokeh/release/bokeh-widgets-0.12.13.min.js\", \"https://cdn.pydata.org/bokeh/release/bokeh-tables-0.12.13.min.js\", \"https://cdn.pydata.org/bokeh/release/bokeh-gl-0.12.13.min.js\"];\n",
       "\n",
       "  var inline_js = [\n",
       "    function(Bokeh) {\n",
       "      Bokeh.set_log_level(\"info\");\n",
       "    },\n",
       "    \n",
       "    function(Bokeh) {\n",
       "      \n",
       "    },\n",
       "    function(Bokeh) {\n",
       "      console.log(\"Bokeh: injecting CSS: https://cdn.pydata.org/bokeh/release/bokeh-0.12.13.min.css\");\n",
       "      Bokeh.embed.inject_css(\"https://cdn.pydata.org/bokeh/release/bokeh-0.12.13.min.css\");\n",
       "      console.log(\"Bokeh: injecting CSS: https://cdn.pydata.org/bokeh/release/bokeh-widgets-0.12.13.min.css\");\n",
       "      Bokeh.embed.inject_css(\"https://cdn.pydata.org/bokeh/release/bokeh-widgets-0.12.13.min.css\");\n",
       "      console.log(\"Bokeh: injecting CSS: https://cdn.pydata.org/bokeh/release/bokeh-tables-0.12.13.min.css\");\n",
       "      Bokeh.embed.inject_css(\"https://cdn.pydata.org/bokeh/release/bokeh-tables-0.12.13.min.css\");\n",
       "    }\n",
       "  ];\n",
       "\n",
       "  function run_inline_js() {\n",
       "    \n",
       "    if ((root.Bokeh !== undefined) || (force === true)) {\n",
       "      for (var i = 0; i < inline_js.length; i++) {\n",
       "        inline_js[i].call(root, root.Bokeh);\n",
       "      }if (force === true) {\n",
       "        display_loaded();\n",
       "      }} else if (Date.now() < root._bokeh_timeout) {\n",
       "      setTimeout(run_inline_js, 100);\n",
       "    } else if (!root._bokeh_failed_load) {\n",
       "      console.log(\"Bokeh: BokehJS failed to load within specified timeout.\");\n",
       "      root._bokeh_failed_load = true;\n",
       "    } else if (force !== true) {\n",
       "      var cell = $(document.getElementById(\"8c06da9c-adbd-496d-9c7c-f35a5b15f1d5\")).parents('.cell').data().cell;\n",
       "      cell.output_area.append_execute_result(NB_LOAD_WARNING)\n",
       "    }\n",
       "\n",
       "  }\n",
       "\n",
       "  if (root._bokeh_is_loading === 0) {\n",
       "    console.log(\"Bokeh: BokehJS loaded, going straight to plotting\");\n",
       "    run_inline_js();\n",
       "  } else {\n",
       "    load_libs(js_urls, function() {\n",
       "      console.log(\"Bokeh: BokehJS plotting callback run at\", now());\n",
       "      run_inline_js();\n",
       "    });\n",
       "  }\n",
       "}(window));"
      ],
      "application/vnd.bokehjs_load.v0+json": "\n(function(root) {\n  function now() {\n    return new Date();\n  }\n\n  var force = true;\n\n  if (typeof (root._bokeh_onload_callbacks) === \"undefined\" || force === true) {\n    root._bokeh_onload_callbacks = [];\n    root._bokeh_is_loading = undefined;\n  }\n\n  \n\n  \n  if (typeof (root._bokeh_timeout) === \"undefined\" || force === true) {\n    root._bokeh_timeout = Date.now() + 5000;\n    root._bokeh_failed_load = false;\n  }\n\n  var NB_LOAD_WARNING = {'data': {'text/html':\n     \"<div style='background-color: #fdd'>\\n\"+\n     \"<p>\\n\"+\n     \"BokehJS does not appear to have successfully loaded. If loading BokehJS from CDN, this \\n\"+\n     \"may be due to a slow or bad network connection. Possible fixes:\\n\"+\n     \"</p>\\n\"+\n     \"<ul>\\n\"+\n     \"<li>re-rerun `output_notebook()` to attempt to load from CDN again, or</li>\\n\"+\n     \"<li>use INLINE resources instead, as so:</li>\\n\"+\n     \"</ul>\\n\"+\n     \"<code>\\n\"+\n     \"from bokeh.resources import INLINE\\n\"+\n     \"output_notebook(resources=INLINE)\\n\"+\n     \"</code>\\n\"+\n     \"</div>\"}};\n\n  function display_loaded() {\n    var el = document.getElementById(\"8c06da9c-adbd-496d-9c7c-f35a5b15f1d5\");\n    if (el != null) {\n      el.textContent = \"BokehJS is loading...\";\n    }\n    if (root.Bokeh !== undefined) {\n      if (el != null) {\n        el.textContent = \"BokehJS \" + root.Bokeh.version + \" successfully loaded.\";\n      }\n    } else if (Date.now() < root._bokeh_timeout) {\n      setTimeout(display_loaded, 100)\n    }\n  }\n\n\n  function run_callbacks() {\n    try {\n      root._bokeh_onload_callbacks.forEach(function(callback) { callback() });\n    }\n    finally {\n      delete root._bokeh_onload_callbacks\n    }\n    console.info(\"Bokeh: all callbacks have finished\");\n  }\n\n  function load_libs(js_urls, callback) {\n    root._bokeh_onload_callbacks.push(callback);\n    if (root._bokeh_is_loading > 0) {\n      console.log(\"Bokeh: BokehJS is being loaded, scheduling callback at\", now());\n      return null;\n    }\n    if (js_urls == null || js_urls.length === 0) {\n      run_callbacks();\n      return null;\n    }\n    console.log(\"Bokeh: BokehJS not loaded, scheduling load and callback at\", now());\n    root._bokeh_is_loading = js_urls.length;\n    for (var i = 0; i < js_urls.length; i++) {\n      var url = js_urls[i];\n      var s = document.createElement('script');\n      s.src = url;\n      s.async = false;\n      s.onreadystatechange = s.onload = function() {\n        root._bokeh_is_loading--;\n        if (root._bokeh_is_loading === 0) {\n          console.log(\"Bokeh: all BokehJS libraries loaded\");\n          run_callbacks()\n        }\n      };\n      s.onerror = function() {\n        console.warn(\"failed to load library \" + url);\n      };\n      console.log(\"Bokeh: injecting script tag for BokehJS library: \", url);\n      document.getElementsByTagName(\"head\")[0].appendChild(s);\n    }\n  };var element = document.getElementById(\"8c06da9c-adbd-496d-9c7c-f35a5b15f1d5\");\n  if (element == null) {\n    console.log(\"Bokeh: ERROR: autoload.js configured with elementid '8c06da9c-adbd-496d-9c7c-f35a5b15f1d5' but no matching script tag was found. \")\n    return false;\n  }\n\n  var js_urls = [\"https://cdn.pydata.org/bokeh/release/bokeh-0.12.13.min.js\", \"https://cdn.pydata.org/bokeh/release/bokeh-widgets-0.12.13.min.js\", \"https://cdn.pydata.org/bokeh/release/bokeh-tables-0.12.13.min.js\", \"https://cdn.pydata.org/bokeh/release/bokeh-gl-0.12.13.min.js\"];\n\n  var inline_js = [\n    function(Bokeh) {\n      Bokeh.set_log_level(\"info\");\n    },\n    \n    function(Bokeh) {\n      \n    },\n    function(Bokeh) {\n      console.log(\"Bokeh: injecting CSS: https://cdn.pydata.org/bokeh/release/bokeh-0.12.13.min.css\");\n      Bokeh.embed.inject_css(\"https://cdn.pydata.org/bokeh/release/bokeh-0.12.13.min.css\");\n      console.log(\"Bokeh: injecting CSS: https://cdn.pydata.org/bokeh/release/bokeh-widgets-0.12.13.min.css\");\n      Bokeh.embed.inject_css(\"https://cdn.pydata.org/bokeh/release/bokeh-widgets-0.12.13.min.css\");\n      console.log(\"Bokeh: injecting CSS: https://cdn.pydata.org/bokeh/release/bokeh-tables-0.12.13.min.css\");\n      Bokeh.embed.inject_css(\"https://cdn.pydata.org/bokeh/release/bokeh-tables-0.12.13.min.css\");\n    }\n  ];\n\n  function run_inline_js() {\n    \n    if ((root.Bokeh !== undefined) || (force === true)) {\n      for (var i = 0; i < inline_js.length; i++) {\n        inline_js[i].call(root, root.Bokeh);\n      }if (force === true) {\n        display_loaded();\n      }} else if (Date.now() < root._bokeh_timeout) {\n      setTimeout(run_inline_js, 100);\n    } else if (!root._bokeh_failed_load) {\n      console.log(\"Bokeh: BokehJS failed to load within specified timeout.\");\n      root._bokeh_failed_load = true;\n    } else if (force !== true) {\n      var cell = $(document.getElementById(\"8c06da9c-adbd-496d-9c7c-f35a5b15f1d5\")).parents('.cell').data().cell;\n      cell.output_area.append_execute_result(NB_LOAD_WARNING)\n    }\n\n  }\n\n  if (root._bokeh_is_loading === 0) {\n    console.log(\"Bokeh: BokehJS loaded, going straight to plotting\");\n    run_inline_js();\n  } else {\n    load_libs(js_urls, function() {\n      console.log(\"Bokeh: BokehJS plotting callback run at\", now());\n      run_inline_js();\n    });\n  }\n}(window));"
     },
     "metadata": {},
     "output_type": "display_data"
    }
   ],
   "source": [
    "from bokeh.plotting import figure,output_notebook, show\n",
    "from bokeh.palettes import Blues4\n",
    "from bokeh.models import ColumnDataSource,Slider\n",
    "import datetime\n",
    "from bokeh.io import push_notebook\n",
    "from dateutil import parser\n",
    "from ipywidgets import interact, widgets, fixed\n",
    "output_notebook()"
   ]
  },
  {
   "cell_type": "markdown",
   "metadata": {},
   "source": [
    "Define API call function"
   ]
  },
  {
   "cell_type": "code",
   "execution_count": 4,
   "metadata": {},
   "outputs": [],
   "source": [
    "def detect(endpoint, subscription_key, request_data):\n",
    "    headers = {'Content-Type': 'application/json', 'Ocp-Apim-Subscription-Key': subscription_key}\n",
    "    response = requests.post(endpoint, data=json.dumps(request_data), headers=headers)\n",
    "    if response.status_code == 200:\n",
    "        return json.loads(response.content.decode(\"utf-8\"))\n",
    "    else:\n",
    "        print(response.status_code)\n",
    "        raise Exception(response.text)"
   ]
  },
  {
   "cell_type": "markdown",
   "metadata": {},
   "source": [
    "Define API response handling function"
   ]
  },
  {
   "cell_type": "code",
   "execution_count": 5,
   "metadata": {},
   "outputs": [],
   "source": [
    "def build_figure(sample_data, sensitivity):\n",
    "    sample_data['sensitivity'] = sensitivity\n",
    "    result = detect(endpoint, subscription_key, sample_data)\n",
    "    columns = {'expectedValues': result['expectedValues'], 'isAnomaly': result['isAnomaly'], 'isNegativeAnomaly': result['isNegativeAnomaly'],\n",
    "          'isPositiveAnomaly': result['isPositiveAnomaly'], 'upperMargins': result['upperMargins'], 'lowerMargins': result['lowerMargins'],\n",
    "          'timestamp': [parser.parse(x['timestamp']) for x in sample_data['series']], \n",
    "          'value': [x['value'] for x in sample_data['series']]}\n",
    "    response = pd.DataFrame(data=columns)\n",
    "    values = response['value']\n",
    "    label = response['timestamp']\n",
    "    anomalies = []\n",
    "    anomaly_labels = []\n",
    "    index = 0\n",
    "    anomaly_indexes = []\n",
    "    p = figure(x_axis_type='datetime', title=\"Batch Anomaly Detection ({0} Sensitvity)\".format(sensitivity), width=800, height=600)\n",
    "    for anom in response['isAnomaly']:\n",
    "        if anom == True and (values[index] > response.iloc[index]['expectedValues'] + response.iloc[index]['upperMargins'] or \n",
    "                         values[index] < response.iloc[index]['expectedValues'] - response.iloc[index]['lowerMargins']):\n",
    "            anomalies.append(values[index])\n",
    "            anomaly_labels.append(label[index])\n",
    "            anomaly_indexes.append(index)\n",
    "        index = index+1\n",
    "    upperband = response['expectedValues'] + response['upperMargins']\n",
    "    lowerband = response['expectedValues'] -response['lowerMargins']\n",
    "    band_x = np.append(label, label[::-1])\n",
    "        #band_x = np.append(label, label[::-1])\n",
    "    band_y = np.append(lowerband, upperband[::-1])\n",
    "        #band_y = np.append(lowerband, upperband[::-1])\n",
    "    boundary = p.patch(band_x, band_y, color=Blues4[2], fill_alpha=0.5, line_width=1, legend='Boundary')\n",
    "    p.line(label, values, legend='Value', color=\"#2222aa\", line_width=1)\n",
    "    p.line(label, response['expectedValues'], legend='ExpectedValue',  line_width=1, line_dash=\"dotdash\", line_color='olivedrab')\n",
    "    anom_source = ColumnDataSource(dict(x=anomaly_labels, y=anomalies))\n",
    "    anoms = p.circle('x', 'y', size=5, color='tomato', source=anom_source)\n",
    "    p.legend.border_line_width = 1\n",
    "    p.legend.background_fill_alpha  = 0.1\n",
    "    show(p, notebook_handle=True)"
   ]
  },
  {
   "cell_type": "markdown",
   "metadata": {},
   "source": [
    "Load prepared stock performance data from Aplha Vantage API"
   ]
  },
  {
   "cell_type": "code",
   "execution_count": 6,
   "metadata": {},
   "outputs": [
    {
     "name": "stdout",
     "output_type": "stream",
     "text": [
      "{'granularity': 'weekly', 'series': [{'timestamp': '2018-05-11T00:00:00Z', 'value': 98}, {'timestamp': '2018-05-18T00:00:00Z', 'value': 96}, {'timestamp': '2018-05-25T00:00:00Z', 'value': 98}, {'timestamp': '2018-06-01T00:00:00Z', 'value': 101}, {'timestamp': '2018-06-08T00:00:00Z', 'value': 102}, {'timestamp': '2018-06-15T00:00:00Z', 'value': 100}, {'timestamp': '2018-06-22T00:00:00Z', 'value': 100}, {'timestamp': '2018-06-29T00:00:00Z', 'value': 99}, {'timestamp': '2018-07-06T00:00:00Z', 'value': 101}, {'timestamp': '2018-07-13T00:00:00Z', 'value': 105}, {'timestamp': '2018-07-20T00:00:00Z', 'value': 106}, {'timestamp': '2018-07-27T00:00:00Z', 'value': 108}, {'timestamp': '2018-08-03T00:00:00Z', 'value': 108}, {'timestamp': '2018-08-10T00:00:00Z', 'value': 109}, {'timestamp': '2018-08-17T00:00:00Z', 'value': 108}, {'timestamp': '2018-08-24T00:00:00Z', 'value': 108}, {'timestamp': '2018-08-31T00:00:00Z', 'value': 112}, {'timestamp': '2018-09-07T00:00:00Z', 'value': 108}, {'timestamp': '2018-09-14T00:00:00Z', 'value': 113}, {'timestamp': '2018-09-21T00:00:00Z', 'value': 114}, {'timestamp': '2018-09-28T00:00:00Z', 'value': 114}, {'timestamp': '2018-10-05T00:00:00Z', 'value': 112}, {'timestamp': '2018-10-12T00:00:00Z', 'value': 110}, {'timestamp': '2018-10-19T00:00:00Z', 'value': 109}, {'timestamp': '2018-10-26T00:00:00Z', 'value': 107}, {'timestamp': '2018-11-02T00:00:00Z', 'value': 106}, {'timestamp': '2018-11-09T00:00:00Z', 'value': 110}, {'timestamp': '2018-11-16T00:00:00Z', 'value': 108}, {'timestamp': '2018-11-23T00:00:00Z', 'value': 103}, {'timestamp': '2018-11-30T00:00:00Z', 'value': 111}, {'timestamp': '2018-12-07T00:00:00Z', 'value': 105}, {'timestamp': '2018-12-14T00:00:00Z', 'value': 106}, {'timestamp': '2018-12-21T00:00:00Z', 'value': 98}, {'timestamp': '2018-12-28T00:00:00Z', 'value': 100}, {'timestamp': '2019-01-04T00:00:00Z', 'value': 102}, {'timestamp': '2019-01-11T00:00:00Z', 'value': 103}, {'timestamp': '2019-01-18T00:00:00Z', 'value': 108}, {'timestamp': '2019-01-25T00:00:00Z', 'value': 107}, {'timestamp': '2019-02-01T00:00:00Z', 'value': 103}, {'timestamp': '2019-02-08T00:00:00Z', 'value': 106}, {'timestamp': '2019-02-15T00:00:00Z', 'value': 108}, {'timestamp': '2019-02-22T00:00:00Z', 'value': 111}, {'timestamp': '2019-03-01T00:00:00Z', 'value': 113}, {'timestamp': '2019-03-08T00:00:00Z', 'value': 111}, {'timestamp': '2019-03-15T00:00:00Z', 'value': 116}, {'timestamp': '2019-03-22T00:00:00Z', 'value': 117}, {'timestamp': '2019-03-29T00:00:00Z', 'value': 118}, {'timestamp': '2019-04-05T00:00:00Z', 'value': 120}]}\n"
     ]
    }
   ],
   "source": [
    "import json\n",
    "stock_data_from_av = json.load(open('stockdatafromav.json'))\n",
    "print(stock_data_from_av)"
   ]
  },
  {
   "cell_type": "markdown",
   "metadata": {},
   "source": [
    "Show Batch Anomaly Detection with 95% sensitivity"
   ]
  },
  {
   "cell_type": "code",
   "execution_count": 7,
   "metadata": {},
   "outputs": [
    {
     "data": {
      "text/html": [
       "\n",
       "<div class=\"bk-root\">\n",
       "    <div class=\"bk-plotdiv\" id=\"9abd1bad-1996-47b2-8a21-2911df0f8d8d\"></div>\n",
       "</div>"
      ]
     },
     "metadata": {},
     "output_type": "display_data"
    },
    {
     "data": {
      "application/javascript": [
       "(function(root) {\n",
       "  function embed_document(root) {\n",
       "    \n",
       "  var docs_json = {\"3700bcc2-0028-4e8c-99f2-6d7b70a9e5f0\":{\"roots\":{\"references\":[{\"attributes\":{\"below\":[{\"id\":\"328f8e57-5ef0-4773-aadf-6760fd1ce438\",\"type\":\"DatetimeAxis\"}],\"left\":[{\"id\":\"f681b6a8-2257-42d7-b954-d60e54275b8e\",\"type\":\"LinearAxis\"}],\"plot_width\":800,\"renderers\":[{\"id\":\"328f8e57-5ef0-4773-aadf-6760fd1ce438\",\"type\":\"DatetimeAxis\"},{\"id\":\"bc55981f-aeaa-4a28-b4d6-53d58860c992\",\"type\":\"Grid\"},{\"id\":\"f681b6a8-2257-42d7-b954-d60e54275b8e\",\"type\":\"LinearAxis\"},{\"id\":\"09e55fba-966c-44b6-8bee-e673ca82afd9\",\"type\":\"Grid\"},{\"id\":\"f83e41f6-53db-4c87-8e17-c3d3b65c7b10\",\"type\":\"BoxAnnotation\"},{\"id\":\"ed7de1b0-19c9-48cd-9fe3-c36fcaf7f82b\",\"type\":\"Legend\"},{\"id\":\"dce229f9-1f5a-4d67-8727-6990d430a41a\",\"type\":\"GlyphRenderer\"},{\"id\":\"0a549905-01ad-4b20-977e-7c1a3890db14\",\"type\":\"GlyphRenderer\"},{\"id\":\"2e185583-35c2-4a90-adf2-4d8691b02cfa\",\"type\":\"GlyphRenderer\"},{\"id\":\"422f8803-8546-468f-9ab3-34ea6bddec82\",\"type\":\"GlyphRenderer\"}],\"title\":{\"id\":\"21114581-ea52-410e-bbb4-0ab0f9b7fc54\",\"type\":\"Title\"},\"toolbar\":{\"id\":\"90b00c9f-0e9d-48c4-b216-b28856a497a3\",\"type\":\"Toolbar\"},\"x_range\":{\"id\":\"34dc386c-c048-45d4-8052-82da833d81dc\",\"type\":\"DataRange1d\"},\"x_scale\":{\"id\":\"970ed711-dfb9-43f1-98c2-d3d053944919\",\"type\":\"LinearScale\"},\"y_range\":{\"id\":\"2278d14d-7979-4478-8eeb-7f4914637b4c\",\"type\":\"DataRange1d\"},\"y_scale\":{\"id\":\"504872bc-7975-472e-a689-ee3b7de433fe\",\"type\":\"LinearScale\"}},\"id\":\"1596a1af-6719-46e3-9570-58bcaba03232\",\"subtype\":\"Figure\",\"type\":\"Plot\"},{\"attributes\":{\"line_alpha\":0.1,\"line_color\":\"#1f77b4\",\"x\":{\"field\":\"x\"},\"y\":{\"field\":\"y\"}},\"id\":\"3e5da8ac-5620-4db0-b891-cb3cd44f4340\",\"type\":\"Line\"},{\"attributes\":{\"callback\":null},\"id\":\"34dc386c-c048-45d4-8052-82da833d81dc\",\"type\":\"DataRange1d\"},{\"attributes\":{\"callback\":null,\"column_names\":[\"x\",\"y\"],\"data\":{\"x\":{\"__ndarray__\":\"AACA9Mc0dkIAAMC8CDd2QgAAAIVJOXZCAABATYo7dkIAAIAVyz12QgAAwN0LQHZCAAAApkxCdkIAAEBujUR2QgAAgDbORnZCAADA/g5JdkIAAADHT0t2QgAAQI+QTXZCAACAV9FPdkIAAMAfElJ2QgAAAOhSVHZCAABAsJNWdkIAAIB41Fh2QgAAwEAVW3ZCAAAACVZddkIAAEDRll92QgAAgJnXYXZCAADAYRhkdkIAAAAqWWZ2QgAAQPKZaHZCAACAutpqdkIAAMCCG212QgAAAEtcb3ZCAABAE51xdkIAAIDb3XN2QgAAwKMednZCAAAAbF94dkIAAEA0oHp2QgAAgPzgfHZCAADAxCF/dkIAAACNYoF2QgAAQFWjg3ZCAACAHeSFdkIAAMDlJIh2QgAAAK5linZCAABAdqaMdkIAAIA+5452QgAAwAYokXZCAAAAz2iTdkIAAECXqZV2QgAAgF/ql3ZCAADAJyuadkIAAADwa5x2QgAAQLisnnZC\",\"dtype\":\"float64\",\"shape\":[48]},\"y\":[98,96,98,101,102,100,100,99,101,105,106,108,108,109,108,108,112,108,113,114,114,112,110,109,107,106,110,108,103,111,105,106,98,100,102,103,108,107,103,106,108,111,113,111,116,117,118,120]}},\"id\":\"d2abc793-0cf9-49a5-8a14-55cd62651ff3\",\"type\":\"ColumnDataSource\"},{\"attributes\":{\"source\":{\"id\":\"2a58aa1f-32bb-4f36-ae73-45696ac5109c\",\"type\":\"ColumnDataSource\"}},\"id\":\"84a6c45c-f9f3-4095-a017-46496b06c6ad\",\"type\":\"CDSView\"},{\"attributes\":{\"days\":[1,8,15,22]},\"id\":\"029376b8-1ceb-46af-8283-2766167aba57\",\"type\":\"DaysTicker\"},{\"attributes\":{\"plot\":null,\"text\":\"Batch Anomaly Detection (95 Sensitvity)\"},\"id\":\"21114581-ea52-410e-bbb4-0ab0f9b7fc54\",\"type\":\"Title\"},{\"attributes\":{\"callback\":null},\"id\":\"2278d14d-7979-4478-8eeb-7f4914637b4c\",\"type\":\"DataRange1d\"},{\"attributes\":{\"fill_alpha\":0.1,\"fill_color\":\"#1f77b4\",\"line_alpha\":0.1,\"line_color\":\"#1f77b4\",\"x\":{\"field\":\"x\"},\"y\":{\"field\":\"y\"}},\"id\":\"f5c663c4-9a56-4eec-a955-21ee7bac5bae\",\"type\":\"Patch\"},{\"attributes\":{},\"id\":\"970ed711-dfb9-43f1-98c2-d3d053944919\",\"type\":\"LinearScale\"},{\"attributes\":{\"active_drag\":\"auto\",\"active_inspect\":\"auto\",\"active_scroll\":\"auto\",\"active_tap\":\"auto\",\"tools\":[{\"id\":\"a003a6a2-5e5c-44fd-86ea-8240ee102cde\",\"type\":\"PanTool\"},{\"id\":\"8e3b67d8-367d-449c-ba49-c6844487d7d2\",\"type\":\"WheelZoomTool\"},{\"id\":\"f97551a0-a523-40ac-967b-10387e8f8cf9\",\"type\":\"BoxZoomTool\"},{\"id\":\"27580fa0-0f6e-4261-8ca5-86606a6a835e\",\"type\":\"SaveTool\"},{\"id\":\"1cfc7aeb-2714-4aa4-8413-053f9be6ea19\",\"type\":\"ResetTool\"},{\"id\":\"6eec6606-4048-4b59-a719-d0ab9fa7a98d\",\"type\":\"HelpTool\"}]},\"id\":\"90b00c9f-0e9d-48c4-b216-b28856a497a3\",\"type\":\"Toolbar\"},{\"attributes\":{\"plot\":{\"id\":\"1596a1af-6719-46e3-9570-58bcaba03232\",\"subtype\":\"Figure\",\"type\":\"Plot\"},\"ticker\":{\"id\":\"40dc65e9-0654-48a8-89f2-b8e402aa5640\",\"type\":\"DatetimeTicker\"}},\"id\":\"bc55981f-aeaa-4a28-b4d6-53d58860c992\",\"type\":\"Grid\"},{\"attributes\":{\"num_minor_ticks\":5,\"tickers\":[{\"id\":\"70740d14-da50-49f6-af6e-d6d04f618b2a\",\"type\":\"AdaptiveTicker\"},{\"id\":\"83cd8902-7138-4024-b172-7508f1926aeb\",\"type\":\"AdaptiveTicker\"},{\"id\":\"8ebc9c8d-77dd-479b-9dc9-abadfa3ab79b\",\"type\":\"AdaptiveTicker\"},{\"id\":\"7698fb9e-3f98-4853-b52e-772844c3ac14\",\"type\":\"DaysTicker\"},{\"id\":\"d2a7a92d-4a05-46ef-ba70-c6731647e397\",\"type\":\"DaysTicker\"},{\"id\":\"029376b8-1ceb-46af-8283-2766167aba57\",\"type\":\"DaysTicker\"},{\"id\":\"a54c8179-a1c0-432a-8ad2-85f2b640049c\",\"type\":\"DaysTicker\"},{\"id\":\"1cd076d5-44aa-4781-8aad-04ea2be01d9e\",\"type\":\"MonthsTicker\"},{\"id\":\"6e9135b8-9fed-4d45-a240-97ba34a10072\",\"type\":\"MonthsTicker\"},{\"id\":\"83fb86f4-ce59-4734-b9e6-036b73eb3891\",\"type\":\"MonthsTicker\"},{\"id\":\"86075aef-aff6-47a7-9584-dd89d198bfcf\",\"type\":\"MonthsTicker\"},{\"id\":\"352dc9f3-cd83-4c7a-b25a-715a815d3862\",\"type\":\"YearsTicker\"}]},\"id\":\"40dc65e9-0654-48a8-89f2-b8e402aa5640\",\"type\":\"DatetimeTicker\"},{\"attributes\":{\"months\":[0,4,8]},\"id\":\"83fb86f4-ce59-4734-b9e6-036b73eb3891\",\"type\":\"MonthsTicker\"},{\"attributes\":{\"formatter\":{\"id\":\"c0c8509b-3320-484f-a9e7-8307d6345b49\",\"type\":\"DatetimeTickFormatter\"},\"plot\":{\"id\":\"1596a1af-6719-46e3-9570-58bcaba03232\",\"subtype\":\"Figure\",\"type\":\"Plot\"},\"ticker\":{\"id\":\"40dc65e9-0654-48a8-89f2-b8e402aa5640\",\"type\":\"DatetimeTicker\"}},\"id\":\"328f8e57-5ef0-4773-aadf-6760fd1ce438\",\"type\":\"DatetimeAxis\"},{\"attributes\":{\"line_alpha\":0.1,\"line_color\":\"#1f77b4\",\"line_dash\":[2,4,6,4],\"x\":{\"field\":\"x\"},\"y\":{\"field\":\"y\"}},\"id\":\"52ae2334-ceac-47e7-887a-a45dfce1eed4\",\"type\":\"Line\"},{\"attributes\":{},\"id\":\"504872bc-7975-472e-a689-ee3b7de433fe\",\"type\":\"LinearScale\"},{\"attributes\":{\"fill_alpha\":0.5,\"fill_color\":\"#bdd7e7\",\"line_color\":\"#bdd7e7\",\"x\":{\"field\":\"x\"},\"y\":{\"field\":\"y\"}},\"id\":\"9740810b-49a4-4778-9a7c-7e2a646183d8\",\"type\":\"Patch\"},{\"attributes\":{\"label\":{\"value\":\"Value\"},\"renderers\":[{\"id\":\"0a549905-01ad-4b20-977e-7c1a3890db14\",\"type\":\"GlyphRenderer\"}]},\"id\":\"7363f3e5-d766-426d-b0be-85c4cb82d83f\",\"type\":\"LegendItem\"},{\"attributes\":{\"days\":[1,4,7,10,13,16,19,22,25,28]},\"id\":\"d2a7a92d-4a05-46ef-ba70-c6731647e397\",\"type\":\"DaysTicker\"},{\"attributes\":{\"data_source\":{\"id\":\"d2abc793-0cf9-49a5-8a14-55cd62651ff3\",\"type\":\"ColumnDataSource\"},\"glyph\":{\"id\":\"6781e27c-399e-4a96-bdc4-d0c128165ac8\",\"type\":\"Line\"},\"hover_glyph\":null,\"muted_glyph\":null,\"nonselection_glyph\":{\"id\":\"3e5da8ac-5620-4db0-b891-cb3cd44f4340\",\"type\":\"Line\"},\"selection_glyph\":null,\"view\":{\"id\":\"9aef9e45-097f-406d-b3f6-67a03928520a\",\"type\":\"CDSView\"}},\"id\":\"0a549905-01ad-4b20-977e-7c1a3890db14\",\"type\":\"GlyphRenderer\"},{\"attributes\":{\"background_fill_alpha\":{\"value\":0.1},\"items\":[{\"id\":\"703f1074-9b85-4111-914f-a7f8dbe8c7ab\",\"type\":\"LegendItem\"},{\"id\":\"7363f3e5-d766-426d-b0be-85c4cb82d83f\",\"type\":\"LegendItem\"},{\"id\":\"0ac4e885-ef14-4309-aef7-55a1944f6007\",\"type\":\"LegendItem\"}],\"plot\":{\"id\":\"1596a1af-6719-46e3-9570-58bcaba03232\",\"subtype\":\"Figure\",\"type\":\"Plot\"}},\"id\":\"ed7de1b0-19c9-48cd-9fe3-c36fcaf7f82b\",\"type\":\"Legend\"},{\"attributes\":{\"callback\":null,\"column_names\":[\"x\",\"y\"],\"data\":{\"x\":{\"__ndarray__\":\"AACA9Mc0dkIAAMC8CDd2QgAAAIVJOXZCAABATYo7dkIAAIAVyz12QgAAwN0LQHZCAAAApkxCdkIAAEBujUR2QgAAgDbORnZCAADA/g5JdkIAAADHT0t2QgAAQI+QTXZCAACAV9FPdkIAAMAfElJ2QgAAAOhSVHZCAABAsJNWdkIAAIB41Fh2QgAAwEAVW3ZCAAAACVZddkIAAEDRll92QgAAgJnXYXZCAADAYRhkdkIAAAAqWWZ2QgAAQPKZaHZCAACAutpqdkIAAMCCG212QgAAAEtcb3ZCAABAE51xdkIAAIDb3XN2QgAAwKMednZCAAAAbF94dkIAAEA0oHp2QgAAgPzgfHZCAADAxCF/dkIAAACNYoF2QgAAQFWjg3ZCAACAHeSFdkIAAMDlJIh2QgAAAK5linZCAABAdqaMdkIAAIA+5452QgAAwAYokXZCAAAAz2iTdkIAAECXqZV2QgAAgF/ql3ZCAADAJyuadkIAAADwa5x2QgAAQLisnnZCAABAuKyedkIAAADwa5x2QgAAwCcrmnZCAACAX+qXdkIAAECXqZV2QgAAAM9ok3ZCAADABiiRdkIAAIA+5452QgAAQHamjHZCAAAArmWKdkIAAMDlJIh2QgAAgB3khXZCAABAVaODdkIAAACNYoF2QgAAwMQhf3ZCAACA/OB8dkIAAEA0oHp2QgAAAGxfeHZCAADAox52dkIAAIDb3XN2QgAAQBOdcXZCAAAAS1xvdkIAAMCCG212QgAAgLraanZCAABA8plodkIAAAAqWWZ2QgAAwGEYZHZCAACAmddhdkIAAEDRll92QgAAAAlWXXZCAADAQBVbdkIAAIB41Fh2QgAAQLCTVnZCAAAA6FJUdkIAAMAfElJ2QgAAgFfRT3ZCAABAj5BNdkIAAADHT0t2QgAAwP4OSXZCAACANs5GdkIAAEBujUR2QgAAAKZMQnZCAADA3QtAdkIAAIAVyz12QgAAQE2KO3ZCAAAAhUk5dkIAAMC8CDd2QgAAgPTHNHZC\",\"dtype\":\"float64\",\"shape\":[96]},\"y\":{\"__ndarray__\":\"wwLNvyN2VkBT7vaxC7ZWQOPZIKTz9VZAcsVKlts1V0ACsXSIw3VXQJGcnnqrtVdAIYjIbJP1V0Cxc/JeezVYQMx3HbCjh1hAkPoNuVXbWEByp+XYrixZQOIpxm7Md1lACo62Ac+4WUDylyj0VO1ZQDTWHUjiFVpAAwvJNFAzWkCW+Fzxd0ZaQCRhDLUyUFpA4QYKt1lRWkACrIguxkpaQLsSu1JRPVpARf3TWtQpWkDQLQZ+KBFaQJZmhPMm9FlAH+3kaKrTWUBy064ur7BZQB34WThTjFlA/rzB77VnWUDxg8G+9kNZQNauNA81IllAjJ/2SpADWUDyt+LbJ+lYQBSuR+F6HFZAPeempInFWEDmwTWwkr5YQLNLXLhVwFhAheb1JvLLWEA99N1lh+JYQLvW7940BVlA1u8G/Bk1WUByof4mVnNZQOjEeBYcvFlAX+jyBeIEWkDVC231p01aQEsv5+RtllpAwlJh1DPfWkA4dtvD+SdbQLCZVbO/cFtAjEsAMjJUXkBaJMo2wwNeQCj9kztUs11A9dVdQOViXUDDridFdhJdQJGH8UkHwlxAXmC7TphxXEAsOYVTKSFcQGZnjhZg3FtALT64VHCnW0AbvR1jHIFbQNfj2ZYmaFtA+7EHRVFbW0AmJ8LCXllbQPNCJGURYVtAuB6F61FwWED+bEtsb4hbQHJ6RnufpVtACC1VA37HW0BbhJJZzexbQAyAGdNPFFxAtR8Fxcc8XED4YnCE92RcQHNJdmahi1xAjCD+XYmvXECiMkqLmM9cQBfH9zvd6lxABXNwW2cAXUCWyx3VRg9dQOtlaZSLFl1AKNe8hEUVXUBwtIGRhApdQOmSIaZY9VxAsgcGrtHUXEDwp5iU/6dcQMgIQ0XybVxAWBPA2BcmXEDOPyYYEtNbQP75AdooeVtATrrPcaccW0Ah+Qsz2cFaQJFgZCc3e1pA/8e8G5U0WkBuLxUQ8+1ZQNyWbQRRp1lAS/7F+K5gWUC7ZR7tDBpZQCnNduFq01hA\",\"dtype\":\"float64\",\"shape\":[96]}}},\"id\":\"2a58aa1f-32bb-4f36-ae73-45696ac5109c\",\"type\":\"ColumnDataSource\"},{\"attributes\":{\"base\":60,\"mantissas\":[1,2,5,10,15,20,30],\"max_interval\":1800000.0,\"min_interval\":1000.0,\"num_minor_ticks\":0},\"id\":\"83cd8902-7138-4024-b172-7508f1926aeb\",\"type\":\"AdaptiveTicker\"},{\"attributes\":{\"base\":24,\"mantissas\":[1,2,4,6,8,12],\"max_interval\":43200000.0,\"min_interval\":3600000.0,\"num_minor_ticks\":0},\"id\":\"8ebc9c8d-77dd-479b-9dc9-abadfa3ab79b\",\"type\":\"AdaptiveTicker\"},{\"attributes\":{\"source\":{\"id\":\"d2abc793-0cf9-49a5-8a14-55cd62651ff3\",\"type\":\"ColumnDataSource\"}},\"id\":\"9aef9e45-097f-406d-b3f6-67a03928520a\",\"type\":\"CDSView\"},{\"attributes\":{\"months\":[0,1,2,3,4,5,6,7,8,9,10,11]},\"id\":\"1cd076d5-44aa-4781-8aad-04ea2be01d9e\",\"type\":\"MonthsTicker\"},{\"attributes\":{\"bottom_units\":\"screen\",\"fill_alpha\":{\"value\":0.5},\"fill_color\":{\"value\":\"lightgrey\"},\"left_units\":\"screen\",\"level\":\"overlay\",\"line_alpha\":{\"value\":1.0},\"line_color\":{\"value\":\"black\"},\"line_dash\":[4,4],\"line_width\":{\"value\":2},\"plot\":null,\"render_mode\":\"css\",\"right_units\":\"screen\",\"top_units\":\"screen\"},\"id\":\"f83e41f6-53db-4c87-8e17-c3d3b65c7b10\",\"type\":\"BoxAnnotation\"},{\"attributes\":{\"callback\":null,\"column_names\":[\"x\",\"y\"],\"data\":{\"x\":{\"__ndarray__\":\"AACA9Mc0dkIAAMC8CDd2QgAAAIVJOXZCAABATYo7dkIAAIAVyz12QgAAwN0LQHZCAAAApkxCdkIAAEBujUR2QgAAgDbORnZCAADA/g5JdkIAAADHT0t2QgAAQI+QTXZCAACAV9FPdkIAAMAfElJ2QgAAAOhSVHZCAABAsJNWdkIAAIB41Fh2QgAAwEAVW3ZCAAAACVZddkIAAEDRll92QgAAgJnXYXZCAADAYRhkdkIAAAAqWWZ2QgAAQPKZaHZCAACAutpqdkIAAMCCG212QgAAAEtcb3ZCAABAE51xdkIAAIDb3XN2QgAAwKMednZCAAAAbF94dkIAAEA0oHp2QgAAgPzgfHZCAADAxCF/dkIAAACNYoF2QgAAQFWjg3ZCAACAHeSFdkIAAMDlJIh2QgAAAK5linZCAABAdqaMdkIAAIA+5452QgAAwAYokXZCAAAAz2iTdkIAAECXqZV2QgAAgF/ql3ZCAADAJyuadkIAAADwa5x2QgAAQLisnnZC\",\"dtype\":\"float64\",\"shape\":[48]},\"y\":{\"__ndarray__\":\"9uehUMekV0AHqopPDOhXQBdsc05RK1hAJy5cTZZuWEA48ERM27FYQEiyLUsg9VhAWXQWSmU4WUBpNv9IqntZQA2Z9pAl0llAR/qHST8qWkCg84V44H9aQJ0ewyPyzlpAact8o2ATW0Dxn2BEqkpbQPPuEftZdVtA9k51bVSUW0CDVm9BfqhbQCac5By8sltAZra5pfKzW0DMO9OBBq1bQODCFVfcnltALuJly1iKW0A5MKiEYHBbQJFDwSjYUVtASZut56UvW0A1m49Z0wpbQOmLr36N5FpAhZ5t4QK+WkAmBCoMYphaQO/tRInZdFpA/4we45dUWkB4EhekyzhaQGZmZmZmRldAGJXlhE0TWkCG9Hu5+AtaQNf+sX7TDVpALuXnXgwaWkCs2H3k0TFaQHQK1JlSVlpAnqtKCb2IWkBP7UG9P8paQKMSmjLaFltA+Dfyp3RjW0BMXUodD7BbQKCCopKp/FtA9af6B0RJXEBJzVJ93pVcQJ7yqvJ44lxA\",\"dtype\":\"float64\",\"shape\":[48]}}},\"id\":\"772ce9ad-896a-4d97-8dc3-035d7400f0f8\",\"type\":\"ColumnDataSource\"},{\"attributes\":{},\"id\":\"352dc9f3-cd83-4c7a-b25a-715a815d3862\",\"type\":\"YearsTicker\"},{\"attributes\":{\"dimension\":1,\"plot\":{\"id\":\"1596a1af-6719-46e3-9570-58bcaba03232\",\"subtype\":\"Figure\",\"type\":\"Plot\"},\"ticker\":{\"id\":\"c070cebd-c73b-4d53-8d22-98185f9b3d76\",\"type\":\"BasicTicker\"}},\"id\":\"09e55fba-966c-44b6-8bee-e673ca82afd9\",\"type\":\"Grid\"},{\"attributes\":{\"fill_color\":{\"value\":\"tomato\"},\"line_color\":{\"value\":\"tomato\"},\"size\":{\"units\":\"screen\",\"value\":5},\"x\":{\"field\":\"x\"},\"y\":{\"field\":\"y\"}},\"id\":\"931a0186-4570-4e68-895b-8e26dd6ad44a\",\"type\":\"Circle\"},{\"attributes\":{},\"id\":\"a003a6a2-5e5c-44fd-86ea-8240ee102cde\",\"type\":\"PanTool\"},{\"attributes\":{\"data_source\":{\"id\":\"772ce9ad-896a-4d97-8dc3-035d7400f0f8\",\"type\":\"ColumnDataSource\"},\"glyph\":{\"id\":\"e9047652-4358-48c1-9b16-f67f52701a12\",\"type\":\"Line\"},\"hover_glyph\":null,\"muted_glyph\":null,\"nonselection_glyph\":{\"id\":\"52ae2334-ceac-47e7-887a-a45dfce1eed4\",\"type\":\"Line\"},\"selection_glyph\":null,\"view\":{\"id\":\"4ee270f6-d2f8-4040-8437-47ee37a080f5\",\"type\":\"CDSView\"}},\"id\":\"2e185583-35c2-4a90-adf2-4d8691b02cfa\",\"type\":\"GlyphRenderer\"},{\"attributes\":{\"label\":{\"value\":\"Boundary\"},\"renderers\":[{\"id\":\"dce229f9-1f5a-4d67-8727-6990d430a41a\",\"type\":\"GlyphRenderer\"}]},\"id\":\"703f1074-9b85-4111-914f-a7f8dbe8c7ab\",\"type\":\"LegendItem\"},{\"attributes\":{\"source\":{\"id\":\"2da64320-f491-4351-9e79-16431bf61bcd\",\"type\":\"ColumnDataSource\"}},\"id\":\"f1a6a47b-8338-49ff-bde4-581fef77c922\",\"type\":\"CDSView\"},{\"attributes\":{\"line_color\":\"olivedrab\",\"line_dash\":[2,4,6,4],\"x\":{\"field\":\"x\"},\"y\":{\"field\":\"y\"}},\"id\":\"e9047652-4358-48c1-9b16-f67f52701a12\",\"type\":\"Line\"},{\"attributes\":{},\"id\":\"c070cebd-c73b-4d53-8d22-98185f9b3d76\",\"type\":\"BasicTicker\"},{\"attributes\":{\"mantissas\":[1,2,5],\"max_interval\":500.0,\"num_minor_ticks\":0},\"id\":\"70740d14-da50-49f6-af6e-d6d04f618b2a\",\"type\":\"AdaptiveTicker\"},{\"attributes\":{\"label\":{\"value\":\"ExpectedValue\"},\"renderers\":[{\"id\":\"2e185583-35c2-4a90-adf2-4d8691b02cfa\",\"type\":\"GlyphRenderer\"}]},\"id\":\"0ac4e885-ef14-4309-aef7-55a1944f6007\",\"type\":\"LegendItem\"},{\"attributes\":{\"months\":[0,6]},\"id\":\"86075aef-aff6-47a7-9584-dd89d198bfcf\",\"type\":\"MonthsTicker\"},{\"attributes\":{\"formatter\":{\"id\":\"390caca2-f2ca-4142-a342-98cc090c3980\",\"type\":\"BasicTickFormatter\"},\"plot\":{\"id\":\"1596a1af-6719-46e3-9570-58bcaba03232\",\"subtype\":\"Figure\",\"type\":\"Plot\"},\"ticker\":{\"id\":\"c070cebd-c73b-4d53-8d22-98185f9b3d76\",\"type\":\"BasicTicker\"}},\"id\":\"f681b6a8-2257-42d7-b954-d60e54275b8e\",\"type\":\"LinearAxis\"},{\"attributes\":{\"source\":{\"id\":\"772ce9ad-896a-4d97-8dc3-035d7400f0f8\",\"type\":\"ColumnDataSource\"}},\"id\":\"4ee270f6-d2f8-4040-8437-47ee37a080f5\",\"type\":\"CDSView\"},{\"attributes\":{},\"id\":\"27580fa0-0f6e-4261-8ca5-86606a6a835e\",\"type\":\"SaveTool\"},{\"attributes\":{},\"id\":\"390caca2-f2ca-4142-a342-98cc090c3980\",\"type\":\"BasicTickFormatter\"},{\"attributes\":{\"callback\":null,\"column_names\":[\"x\",\"y\"],\"data\":{\"x\":[],\"y\":[]}},\"id\":\"2da64320-f491-4351-9e79-16431bf61bcd\",\"type\":\"ColumnDataSource\"},{\"attributes\":{\"overlay\":{\"id\":\"f83e41f6-53db-4c87-8e17-c3d3b65c7b10\",\"type\":\"BoxAnnotation\"}},\"id\":\"f97551a0-a523-40ac-967b-10387e8f8cf9\",\"type\":\"BoxZoomTool\"},{\"attributes\":{\"line_color\":\"#2222aa\",\"x\":{\"field\":\"x\"},\"y\":{\"field\":\"y\"}},\"id\":\"6781e27c-399e-4a96-bdc4-d0c128165ac8\",\"type\":\"Line\"},{\"attributes\":{\"days\":[1,15]},\"id\":\"a54c8179-a1c0-432a-8ad2-85f2b640049c\",\"type\":\"DaysTicker\"},{\"attributes\":{},\"id\":\"8e3b67d8-367d-449c-ba49-c6844487d7d2\",\"type\":\"WheelZoomTool\"},{\"attributes\":{\"fill_alpha\":{\"value\":0.1},\"fill_color\":{\"value\":\"#1f77b4\"},\"line_alpha\":{\"value\":0.1},\"line_color\":{\"value\":\"#1f77b4\"},\"size\":{\"units\":\"screen\",\"value\":5},\"x\":{\"field\":\"x\"},\"y\":{\"field\":\"y\"}},\"id\":\"7c16c36f-f473-4ffc-aa41-e2a8448cd914\",\"type\":\"Circle\"},{\"attributes\":{},\"id\":\"c0c8509b-3320-484f-a9e7-8307d6345b49\",\"type\":\"DatetimeTickFormatter\"},{\"attributes\":{\"months\":[0,2,4,6,8,10]},\"id\":\"6e9135b8-9fed-4d45-a240-97ba34a10072\",\"type\":\"MonthsTicker\"},{\"attributes\":{},\"id\":\"1cfc7aeb-2714-4aa4-8413-053f9be6ea19\",\"type\":\"ResetTool\"},{\"attributes\":{\"days\":[1,2,3,4,5,6,7,8,9,10,11,12,13,14,15,16,17,18,19,20,21,22,23,24,25,26,27,28,29,30,31]},\"id\":\"7698fb9e-3f98-4853-b52e-772844c3ac14\",\"type\":\"DaysTicker\"},{\"attributes\":{\"data_source\":{\"id\":\"2da64320-f491-4351-9e79-16431bf61bcd\",\"type\":\"ColumnDataSource\"},\"glyph\":{\"id\":\"931a0186-4570-4e68-895b-8e26dd6ad44a\",\"type\":\"Circle\"},\"hover_glyph\":null,\"muted_glyph\":null,\"nonselection_glyph\":{\"id\":\"7c16c36f-f473-4ffc-aa41-e2a8448cd914\",\"type\":\"Circle\"},\"selection_glyph\":null,\"view\":{\"id\":\"f1a6a47b-8338-49ff-bde4-581fef77c922\",\"type\":\"CDSView\"}},\"id\":\"422f8803-8546-468f-9ab3-34ea6bddec82\",\"type\":\"GlyphRenderer\"},{\"attributes\":{\"data_source\":{\"id\":\"2a58aa1f-32bb-4f36-ae73-45696ac5109c\",\"type\":\"ColumnDataSource\"},\"glyph\":{\"id\":\"9740810b-49a4-4778-9a7c-7e2a646183d8\",\"type\":\"Patch\"},\"hover_glyph\":null,\"muted_glyph\":null,\"nonselection_glyph\":{\"id\":\"f5c663c4-9a56-4eec-a955-21ee7bac5bae\",\"type\":\"Patch\"},\"selection_glyph\":null,\"view\":{\"id\":\"84a6c45c-f9f3-4095-a017-46496b06c6ad\",\"type\":\"CDSView\"}},\"id\":\"dce229f9-1f5a-4d67-8727-6990d430a41a\",\"type\":\"GlyphRenderer\"},{\"attributes\":{},\"id\":\"6eec6606-4048-4b59-a719-d0ab9fa7a98d\",\"type\":\"HelpTool\"}],\"root_ids\":[\"1596a1af-6719-46e3-9570-58bcaba03232\"]},\"title\":\"Bokeh Application\",\"version\":\"0.12.13\"}};\n",
       "  var render_items = [{\"docid\":\"3700bcc2-0028-4e8c-99f2-6d7b70a9e5f0\",\"elementid\":\"9abd1bad-1996-47b2-8a21-2911df0f8d8d\",\"modelid\":\"1596a1af-6719-46e3-9570-58bcaba03232\",\"notebook_comms_target\":\"fda33f99-642a-4508-b84d-0f9e5e974bce\"}];\n",
       "  root.Bokeh.embed.embed_items_notebook(docs_json, render_items);\n",
       "\n",
       "  }\n",
       "  if (root.Bokeh !== undefined) {\n",
       "    embed_document(root);\n",
       "  } else {\n",
       "    var attempts = 0;\n",
       "    var timer = setInterval(function(root) {\n",
       "      if (root.Bokeh !== undefined) {\n",
       "        embed_document(root);\n",
       "        clearInterval(timer);\n",
       "      }\n",
       "      attempts++;\n",
       "      if (attempts > 100) {\n",
       "        console.log(\"Bokeh: ERROR: Unable to run BokehJS code because BokehJS library is missing\")\n",
       "        clearInterval(timer);\n",
       "      }\n",
       "    }, 10, root)\n",
       "  }\n",
       "})(window);"
      ],
      "application/vnd.bokehjs_exec.v0+json": ""
     },
     "metadata": {
      "application/vnd.bokehjs_exec.v0+json": {
       "id": "1596a1af-6719-46e3-9570-58bcaba03232"
      }
     },
     "output_type": "display_data"
    }
   ],
   "source": [
    "# weekly sample\n",
    "sample_data = json.load(open('stockdatafromav.json'))\n",
    "sample_data['granularity'] = 'weekly'\n",
    "# 95 sensitivity\n",
    "build_figure(sample_data,95)"
   ]
  },
  {
   "cell_type": "markdown",
   "metadata": {},
   "source": [
    "Show Batch Anomaly Detection with 90% sensitivity"
   ]
  },
  {
   "cell_type": "code",
   "execution_count": 8,
   "metadata": {},
   "outputs": [
    {
     "data": {
      "text/html": [
       "\n",
       "<div class=\"bk-root\">\n",
       "    <div class=\"bk-plotdiv\" id=\"3cac993e-080f-48a0-8ee6-d7c00fa505a1\"></div>\n",
       "</div>"
      ]
     },
     "metadata": {},
     "output_type": "display_data"
    },
    {
     "data": {
      "application/javascript": [
       "(function(root) {\n",
       "  function embed_document(root) {\n",
       "    \n",
       "  var docs_json = {\"b5f0d176-5bd8-44ce-a699-29b3fcc0480c\":{\"roots\":{\"references\":[{\"attributes\":{\"dimension\":1,\"plot\":{\"id\":\"323326eb-b3e1-4cdb-8890-860da855e97a\",\"subtype\":\"Figure\",\"type\":\"Plot\"},\"ticker\":{\"id\":\"3969be0b-f030-4142-98fa-5894dc3430a6\",\"type\":\"BasicTicker\"}},\"id\":\"2653827d-ec5c-4e70-899d-b0bc065bc5f3\",\"type\":\"Grid\"},{\"attributes\":{\"base\":60,\"mantissas\":[1,2,5,10,15,20,30],\"max_interval\":1800000.0,\"min_interval\":1000.0,\"num_minor_ticks\":0},\"id\":\"bf6c3ace-dbff-4f67-b267-01fed2fd5c51\",\"type\":\"AdaptiveTicker\"},{\"attributes\":{},\"id\":\"c9aae373-5a98-4b73-b174-7df1ceceb189\",\"type\":\"PanTool\"},{\"attributes\":{\"fill_alpha\":0.5,\"fill_color\":\"#bdd7e7\",\"line_color\":\"#bdd7e7\",\"x\":{\"field\":\"x\"},\"y\":{\"field\":\"y\"}},\"id\":\"0073873e-fd8a-461f-9155-9c9a2633358a\",\"type\":\"Patch\"},{\"attributes\":{\"callback\":null,\"column_names\":[\"x\",\"y\"],\"data\":{\"x\":[],\"y\":[]}},\"id\":\"23486373-17db-4564-9ed8-71e24f602297\",\"type\":\"ColumnDataSource\"},{\"attributes\":{\"months\":[0,1,2,3,4,5,6,7,8,9,10,11]},\"id\":\"68454fc6-683e-4bd2-9e57-b621d1a2218f\",\"type\":\"MonthsTicker\"},{\"attributes\":{\"label\":{\"value\":\"Boundary\"},\"renderers\":[{\"id\":\"da89fba5-5ff6-4e29-b959-f803ace76e90\",\"type\":\"GlyphRenderer\"}]},\"id\":\"f674f2a8-89fd-4fd5-a4f7-d549ea3f5dae\",\"type\":\"LegendItem\"},{\"attributes\":{\"plot\":null,\"text\":\"Batch Anomaly Detection (90 Sensitvity)\"},\"id\":\"9aa184d5-8684-459d-a4ef-b493f9ef833d\",\"type\":\"Title\"},{\"attributes\":{\"days\":[1,8,15,22]},\"id\":\"ba405767-64f7-4f42-9e12-f386050603df\",\"type\":\"DaysTicker\"},{\"attributes\":{},\"id\":\"eb6c3270-9efc-410a-93ac-c9483bedbe2e\",\"type\":\"LinearScale\"},{\"attributes\":{},\"id\":\"427fb755-573b-43d1-9abd-9b55371b8df8\",\"type\":\"SaveTool\"},{\"attributes\":{},\"id\":\"03b83b07-1fea-4d01-b19c-b5b7de11f341\",\"type\":\"ResetTool\"},{\"attributes\":{\"below\":[{\"id\":\"67479390-cda4-49ce-abf9-bdbd24bc7784\",\"type\":\"DatetimeAxis\"}],\"left\":[{\"id\":\"6f15bacc-3ed2-4873-9770-288378eae303\",\"type\":\"LinearAxis\"}],\"plot_width\":800,\"renderers\":[{\"id\":\"67479390-cda4-49ce-abf9-bdbd24bc7784\",\"type\":\"DatetimeAxis\"},{\"id\":\"9794bdce-582d-4dae-b997-f0acee0de41a\",\"type\":\"Grid\"},{\"id\":\"6f15bacc-3ed2-4873-9770-288378eae303\",\"type\":\"LinearAxis\"},{\"id\":\"2653827d-ec5c-4e70-899d-b0bc065bc5f3\",\"type\":\"Grid\"},{\"id\":\"6e8b8760-ea95-4e3f-86f6-dee96ab4d721\",\"type\":\"BoxAnnotation\"},{\"id\":\"c54f339c-5ca4-489d-8614-31c5f32b8649\",\"type\":\"Legend\"},{\"id\":\"da89fba5-5ff6-4e29-b959-f803ace76e90\",\"type\":\"GlyphRenderer\"},{\"id\":\"d1578be9-d4d6-4f32-a54e-2e9aa0bc5919\",\"type\":\"GlyphRenderer\"},{\"id\":\"4299a8d2-673d-4525-8f3e-d25a761504e2\",\"type\":\"GlyphRenderer\"},{\"id\":\"330aa566-d409-4532-ba20-b30c4da451c2\",\"type\":\"GlyphRenderer\"}],\"title\":{\"id\":\"9aa184d5-8684-459d-a4ef-b493f9ef833d\",\"type\":\"Title\"},\"toolbar\":{\"id\":\"012f9879-722c-495b-b1b0-5657de3d4b47\",\"type\":\"Toolbar\"},\"x_range\":{\"id\":\"48e562ad-2dfb-4c23-b196-0e7182bb880a\",\"type\":\"DataRange1d\"},\"x_scale\":{\"id\":\"eb6c3270-9efc-410a-93ac-c9483bedbe2e\",\"type\":\"LinearScale\"},\"y_range\":{\"id\":\"63ac5a67-12a2-46bd-b196-d60d8add1b9f\",\"type\":\"DataRange1d\"},\"y_scale\":{\"id\":\"6071e08a-9d75-4228-b072-9dd3f642a306\",\"type\":\"LinearScale\"}},\"id\":\"323326eb-b3e1-4cdb-8890-860da855e97a\",\"subtype\":\"Figure\",\"type\":\"Plot\"},{\"attributes\":{},\"id\":\"ad93b73a-c5a3-4d43-a767-9263072e8519\",\"type\":\"HelpTool\"},{\"attributes\":{\"data_source\":{\"id\":\"23486373-17db-4564-9ed8-71e24f602297\",\"type\":\"ColumnDataSource\"},\"glyph\":{\"id\":\"694c412d-4a94-4043-80de-7de5dc6de686\",\"type\":\"Circle\"},\"hover_glyph\":null,\"muted_glyph\":null,\"nonselection_glyph\":{\"id\":\"b308e266-5881-4896-8bd3-0d2a3540ea0f\",\"type\":\"Circle\"},\"selection_glyph\":null,\"view\":{\"id\":\"d11b6e1f-49b8-45a8-8b0f-b143a8a4efdd\",\"type\":\"CDSView\"}},\"id\":\"330aa566-d409-4532-ba20-b30c4da451c2\",\"type\":\"GlyphRenderer\"},{\"attributes\":{\"source\":{\"id\":\"2490886f-0284-400d-a527-fc7d4df2f7c3\",\"type\":\"ColumnDataSource\"}},\"id\":\"e4a13ada-eb44-4a97-81e8-c618b5c6e2e3\",\"type\":\"CDSView\"},{\"attributes\":{},\"id\":\"168411e3-bad6-4b5f-9d06-8f13c9a6215f\",\"type\":\"DatetimeTickFormatter\"},{\"attributes\":{\"mantissas\":[1,2,5],\"max_interval\":500.0,\"num_minor_ticks\":0},\"id\":\"960cc5a0-258a-421e-a7d1-c7dd6aab9137\",\"type\":\"AdaptiveTicker\"},{\"attributes\":{\"callback\":null},\"id\":\"63ac5a67-12a2-46bd-b196-d60d8add1b9f\",\"type\":\"DataRange1d\"},{\"attributes\":{\"fill_color\":{\"value\":\"tomato\"},\"line_color\":{\"value\":\"tomato\"},\"size\":{\"units\":\"screen\",\"value\":5},\"x\":{\"field\":\"x\"},\"y\":{\"field\":\"y\"}},\"id\":\"694c412d-4a94-4043-80de-7de5dc6de686\",\"type\":\"Circle\"},{\"attributes\":{\"data_source\":{\"id\":\"2490886f-0284-400d-a527-fc7d4df2f7c3\",\"type\":\"ColumnDataSource\"},\"glyph\":{\"id\":\"0073873e-fd8a-461f-9155-9c9a2633358a\",\"type\":\"Patch\"},\"hover_glyph\":null,\"muted_glyph\":null,\"nonselection_glyph\":{\"id\":\"b10023d3-b3b3-4080-857e-065d57b29731\",\"type\":\"Patch\"},\"selection_glyph\":null,\"view\":{\"id\":\"e4a13ada-eb44-4a97-81e8-c618b5c6e2e3\",\"type\":\"CDSView\"}},\"id\":\"da89fba5-5ff6-4e29-b959-f803ace76e90\",\"type\":\"GlyphRenderer\"},{\"attributes\":{},\"id\":\"6cb2c401-c249-43e7-ae0e-7c7fbf25b750\",\"type\":\"BasicTickFormatter\"},{\"attributes\":{\"base\":24,\"mantissas\":[1,2,4,6,8,12],\"max_interval\":43200000.0,\"min_interval\":3600000.0,\"num_minor_ticks\":0},\"id\":\"0d616d1f-551d-4d24-84dd-2088502a8d17\",\"type\":\"AdaptiveTicker\"},{\"attributes\":{\"months\":[0,6]},\"id\":\"639993dd-0062-4c6c-82e4-b30f7731dc8a\",\"type\":\"MonthsTicker\"},{\"attributes\":{\"months\":[0,2,4,6,8,10]},\"id\":\"ceb8b1f5-e749-4c7c-9911-5637d8a4ebad\",\"type\":\"MonthsTicker\"},{\"attributes\":{\"callback\":null},\"id\":\"48e562ad-2dfb-4c23-b196-0e7182bb880a\",\"type\":\"DataRange1d\"},{\"attributes\":{\"days\":[1,2,3,4,5,6,7,8,9,10,11,12,13,14,15,16,17,18,19,20,21,22,23,24,25,26,27,28,29,30,31]},\"id\":\"46ced19f-ec65-4f36-9fb4-6d172212ee78\",\"type\":\"DaysTicker\"},{\"attributes\":{\"days\":[1,15]},\"id\":\"7e248beb-43f8-449c-846f-2cb3d273436b\",\"type\":\"DaysTicker\"},{\"attributes\":{\"fill_alpha\":0.1,\"fill_color\":\"#1f77b4\",\"line_alpha\":0.1,\"line_color\":\"#1f77b4\",\"x\":{\"field\":\"x\"},\"y\":{\"field\":\"y\"}},\"id\":\"b10023d3-b3b3-4080-857e-065d57b29731\",\"type\":\"Patch\"},{\"attributes\":{\"background_fill_alpha\":{\"value\":0.1},\"items\":[{\"id\":\"f674f2a8-89fd-4fd5-a4f7-d549ea3f5dae\",\"type\":\"LegendItem\"},{\"id\":\"23156176-2085-45d7-bd08-29b188ad424d\",\"type\":\"LegendItem\"},{\"id\":\"cd4c9096-13c5-4c08-9917-d01da5b7e2a7\",\"type\":\"LegendItem\"}],\"plot\":{\"id\":\"323326eb-b3e1-4cdb-8890-860da855e97a\",\"subtype\":\"Figure\",\"type\":\"Plot\"}},\"id\":\"c54f339c-5ca4-489d-8614-31c5f32b8649\",\"type\":\"Legend\"},{\"attributes\":{\"line_color\":\"#2222aa\",\"x\":{\"field\":\"x\"},\"y\":{\"field\":\"y\"}},\"id\":\"c79e1067-f689-4eaf-a5da-975a264c2f19\",\"type\":\"Line\"},{\"attributes\":{},\"id\":\"95aecac3-7542-407a-ac56-145ec2c47f8a\",\"type\":\"YearsTicker\"},{\"attributes\":{\"months\":[0,4,8]},\"id\":\"2f78e352-a656-459f-b44d-ad3bb6913e67\",\"type\":\"MonthsTicker\"},{\"attributes\":{\"line_alpha\":0.1,\"line_color\":\"#1f77b4\",\"line_dash\":[2,4,6,4],\"x\":{\"field\":\"x\"},\"y\":{\"field\":\"y\"}},\"id\":\"8b9f9320-28c6-409a-bac7-59152167f644\",\"type\":\"Line\"},{\"attributes\":{\"data_source\":{\"id\":\"af50968d-ec2a-42a3-8ec9-90629c513100\",\"type\":\"ColumnDataSource\"},\"glyph\":{\"id\":\"bf4e7e84-458f-4af7-9837-f2f1c9e04217\",\"type\":\"Line\"},\"hover_glyph\":null,\"muted_glyph\":null,\"nonselection_glyph\":{\"id\":\"8b9f9320-28c6-409a-bac7-59152167f644\",\"type\":\"Line\"},\"selection_glyph\":null,\"view\":{\"id\":\"55c083f6-a00b-42ac-b189-86fd31038d7f\",\"type\":\"CDSView\"}},\"id\":\"4299a8d2-673d-4525-8f3e-d25a761504e2\",\"type\":\"GlyphRenderer\"},{\"attributes\":{\"formatter\":{\"id\":\"6cb2c401-c249-43e7-ae0e-7c7fbf25b750\",\"type\":\"BasicTickFormatter\"},\"plot\":{\"id\":\"323326eb-b3e1-4cdb-8890-860da855e97a\",\"subtype\":\"Figure\",\"type\":\"Plot\"},\"ticker\":{\"id\":\"3969be0b-f030-4142-98fa-5894dc3430a6\",\"type\":\"BasicTicker\"}},\"id\":\"6f15bacc-3ed2-4873-9770-288378eae303\",\"type\":\"LinearAxis\"},{\"attributes\":{\"callback\":null,\"column_names\":[\"x\",\"y\"],\"data\":{\"x\":{\"__ndarray__\":\"AACA9Mc0dkIAAMC8CDd2QgAAAIVJOXZCAABATYo7dkIAAIAVyz12QgAAwN0LQHZCAAAApkxCdkIAAEBujUR2QgAAgDbORnZCAADA/g5JdkIAAADHT0t2QgAAQI+QTXZCAACAV9FPdkIAAMAfElJ2QgAAAOhSVHZCAABAsJNWdkIAAIB41Fh2QgAAwEAVW3ZCAAAACVZddkIAAEDRll92QgAAgJnXYXZCAADAYRhkdkIAAAAqWWZ2QgAAQPKZaHZCAACAutpqdkIAAMCCG212QgAAAEtcb3ZCAABAE51xdkIAAIDb3XN2QgAAwKMednZCAAAAbF94dkIAAEA0oHp2QgAAgPzgfHZCAADAxCF/dkIAAACNYoF2QgAAQFWjg3ZCAACAHeSFdkIAAMDlJIh2QgAAAK5linZCAABAdqaMdkIAAIA+5452QgAAwAYokXZCAAAAz2iTdkIAAECXqZV2QgAAgF/ql3ZCAADAJyuadkIAAADwa5x2QgAAQLisnnZC\",\"dtype\":\"float64\",\"shape\":[48]},\"y\":{\"__ndarray__\":\"9uehUMekV0AHqopPDOhXQBdsc05RK1hAJy5cTZZuWEA48ERM27FYQEiyLUsg9VhAWXQWSmU4WUBpNv9IqntZQA2Z9pAl0llAR/qHST8qWkCg84V44H9aQJ0ewyPyzlpAact8o2ATW0Dxn2BEqkpbQPPuEftZdVtA9k51bVSUW0CDVm9BfqhbQCac5By8sltAZra5pfKzW0DMO9OBBq1bQODCFVfcnltALuJly1iKW0A5MKiEYHBbQJFDwSjYUVtASZut56UvW0A1m49Z0wpbQOmLr36N5FpAhZ5t4QK+WkAmBCoMYphaQO/tRInZdFpA/4we45dUWkB4EhekyzhaQHWvjlajIlpAGJXlhE0TWkCG9Hu5+AtaQNf+sX7TDVpALuXnXgwaWkCs2H3k0TFaQHQK1JlSVlpAnqtKCb2IWkBP7UG9P8paQKMSmjLaFltA+Dfyp3RjW0BMXUodD7BbQKCCopKp/FtA9af6B0RJXEBJzVJ93pVcQJ7yqvJ44lxA\",\"dtype\":\"float64\",\"shape\":[48]}}},\"id\":\"af50968d-ec2a-42a3-8ec9-90629c513100\",\"type\":\"ColumnDataSource\"},{\"attributes\":{\"callback\":null,\"column_names\":[\"x\",\"y\"],\"data\":{\"x\":{\"__ndarray__\":\"AACA9Mc0dkIAAMC8CDd2QgAAAIVJOXZCAABATYo7dkIAAIAVyz12QgAAwN0LQHZCAAAApkxCdkIAAEBujUR2QgAAgDbORnZCAADA/g5JdkIAAADHT0t2QgAAQI+QTXZCAACAV9FPdkIAAMAfElJ2QgAAAOhSVHZCAABAsJNWdkIAAIB41Fh2QgAAwEAVW3ZCAAAACVZddkIAAEDRll92QgAAgJnXYXZCAADAYRhkdkIAAAAqWWZ2QgAAQPKZaHZCAACAutpqdkIAAMCCG212QgAAAEtcb3ZCAABAE51xdkIAAIDb3XN2QgAAwKMednZCAAAAbF94dkIAAEA0oHp2QgAAgPzgfHZCAADAxCF/dkIAAACNYoF2QgAAQFWjg3ZCAACAHeSFdkIAAMDlJIh2QgAAAK5linZCAABAdqaMdkIAAIA+5452QgAAwAYokXZCAAAAz2iTdkIAAECXqZV2QgAAgF/ql3ZCAADAJyuadkIAAADwa5x2QgAAQLisnnZC\",\"dtype\":\"float64\",\"shape\":[48]},\"y\":[98,96,98,101,102,100,100,99,101,105,106,108,108,109,108,108,112,108,113,114,114,112,110,109,107,106,110,108,103,111,105,106,98,100,102,103,108,107,103,106,108,111,113,111,116,117,118,120]}},\"id\":\"17b1a490-5c0a-4d16-8b46-d026d9b28bca\",\"type\":\"ColumnDataSource\"},{\"attributes\":{},\"id\":\"3969be0b-f030-4142-98fa-5894dc3430a6\",\"type\":\"BasicTicker\"},{\"attributes\":{\"data_source\":{\"id\":\"17b1a490-5c0a-4d16-8b46-d026d9b28bca\",\"type\":\"ColumnDataSource\"},\"glyph\":{\"id\":\"c79e1067-f689-4eaf-a5da-975a264c2f19\",\"type\":\"Line\"},\"hover_glyph\":null,\"muted_glyph\":null,\"nonselection_glyph\":{\"id\":\"ec456a7e-cc6a-460d-aea1-3cb9b50b86fd\",\"type\":\"Line\"},\"selection_glyph\":null,\"view\":{\"id\":\"1e0f10f7-103e-4415-8d2c-8da99cf59323\",\"type\":\"CDSView\"}},\"id\":\"d1578be9-d4d6-4f32-a54e-2e9aa0bc5919\",\"type\":\"GlyphRenderer\"},{\"attributes\":{\"active_drag\":\"auto\",\"active_inspect\":\"auto\",\"active_scroll\":\"auto\",\"active_tap\":\"auto\",\"tools\":[{\"id\":\"c9aae373-5a98-4b73-b174-7df1ceceb189\",\"type\":\"PanTool\"},{\"id\":\"41f8fb77-6208-4e50-9984-67e6414db6dc\",\"type\":\"WheelZoomTool\"},{\"id\":\"6c54cc8f-80f6-4b10-bb5e-aceb21b30cef\",\"type\":\"BoxZoomTool\"},{\"id\":\"427fb755-573b-43d1-9abd-9b55371b8df8\",\"type\":\"SaveTool\"},{\"id\":\"03b83b07-1fea-4d01-b19c-b5b7de11f341\",\"type\":\"ResetTool\"},{\"id\":\"ad93b73a-c5a3-4d43-a767-9263072e8519\",\"type\":\"HelpTool\"}]},\"id\":\"012f9879-722c-495b-b1b0-5657de3d4b47\",\"type\":\"Toolbar\"},{\"attributes\":{\"fill_alpha\":{\"value\":0.1},\"fill_color\":{\"value\":\"#1f77b4\"},\"line_alpha\":{\"value\":0.1},\"line_color\":{\"value\":\"#1f77b4\"},\"size\":{\"units\":\"screen\",\"value\":5},\"x\":{\"field\":\"x\"},\"y\":{\"field\":\"y\"}},\"id\":\"b308e266-5881-4896-8bd3-0d2a3540ea0f\",\"type\":\"Circle\"},{\"attributes\":{},\"id\":\"6071e08a-9d75-4228-b072-9dd3f642a306\",\"type\":\"LinearScale\"},{\"attributes\":{\"label\":{\"value\":\"Value\"},\"renderers\":[{\"id\":\"d1578be9-d4d6-4f32-a54e-2e9aa0bc5919\",\"type\":\"GlyphRenderer\"}]},\"id\":\"23156176-2085-45d7-bd08-29b188ad424d\",\"type\":\"LegendItem\"},{\"attributes\":{\"plot\":{\"id\":\"323326eb-b3e1-4cdb-8890-860da855e97a\",\"subtype\":\"Figure\",\"type\":\"Plot\"},\"ticker\":{\"id\":\"268f831e-8d09-4390-a7ef-b747b80abb09\",\"type\":\"DatetimeTicker\"}},\"id\":\"9794bdce-582d-4dae-b997-f0acee0de41a\",\"type\":\"Grid\"},{\"attributes\":{\"line_alpha\":0.1,\"line_color\":\"#1f77b4\",\"x\":{\"field\":\"x\"},\"y\":{\"field\":\"y\"}},\"id\":\"ec456a7e-cc6a-460d-aea1-3cb9b50b86fd\",\"type\":\"Line\"},{\"attributes\":{\"formatter\":{\"id\":\"168411e3-bad6-4b5f-9d06-8f13c9a6215f\",\"type\":\"DatetimeTickFormatter\"},\"plot\":{\"id\":\"323326eb-b3e1-4cdb-8890-860da855e97a\",\"subtype\":\"Figure\",\"type\":\"Plot\"},\"ticker\":{\"id\":\"268f831e-8d09-4390-a7ef-b747b80abb09\",\"type\":\"DatetimeTicker\"}},\"id\":\"67479390-cda4-49ce-abf9-bdbd24bc7784\",\"type\":\"DatetimeAxis\"},{\"attributes\":{\"label\":{\"value\":\"ExpectedValue\"},\"renderers\":[{\"id\":\"4299a8d2-673d-4525-8f3e-d25a761504e2\",\"type\":\"GlyphRenderer\"}]},\"id\":\"cd4c9096-13c5-4c08-9917-d01da5b7e2a7\",\"type\":\"LegendItem\"},{\"attributes\":{\"num_minor_ticks\":5,\"tickers\":[{\"id\":\"960cc5a0-258a-421e-a7d1-c7dd6aab9137\",\"type\":\"AdaptiveTicker\"},{\"id\":\"bf6c3ace-dbff-4f67-b267-01fed2fd5c51\",\"type\":\"AdaptiveTicker\"},{\"id\":\"0d616d1f-551d-4d24-84dd-2088502a8d17\",\"type\":\"AdaptiveTicker\"},{\"id\":\"46ced19f-ec65-4f36-9fb4-6d172212ee78\",\"type\":\"DaysTicker\"},{\"id\":\"c61ba140-7605-4589-840b-a225e36cecb4\",\"type\":\"DaysTicker\"},{\"id\":\"ba405767-64f7-4f42-9e12-f386050603df\",\"type\":\"DaysTicker\"},{\"id\":\"7e248beb-43f8-449c-846f-2cb3d273436b\",\"type\":\"DaysTicker\"},{\"id\":\"68454fc6-683e-4bd2-9e57-b621d1a2218f\",\"type\":\"MonthsTicker\"},{\"id\":\"ceb8b1f5-e749-4c7c-9911-5637d8a4ebad\",\"type\":\"MonthsTicker\"},{\"id\":\"2f78e352-a656-459f-b44d-ad3bb6913e67\",\"type\":\"MonthsTicker\"},{\"id\":\"639993dd-0062-4c6c-82e4-b30f7731dc8a\",\"type\":\"MonthsTicker\"},{\"id\":\"95aecac3-7542-407a-ac56-145ec2c47f8a\",\"type\":\"YearsTicker\"}]},\"id\":\"268f831e-8d09-4390-a7ef-b747b80abb09\",\"type\":\"DatetimeTicker\"},{\"attributes\":{\"days\":[1,4,7,10,13,16,19,22,25,28]},\"id\":\"c61ba140-7605-4589-840b-a225e36cecb4\",\"type\":\"DaysTicker\"},{\"attributes\":{\"bottom_units\":\"screen\",\"fill_alpha\":{\"value\":0.5},\"fill_color\":{\"value\":\"lightgrey\"},\"left_units\":\"screen\",\"level\":\"overlay\",\"line_alpha\":{\"value\":1.0},\"line_color\":{\"value\":\"black\"},\"line_dash\":[4,4],\"line_width\":{\"value\":2},\"plot\":null,\"render_mode\":\"css\",\"right_units\":\"screen\",\"top_units\":\"screen\"},\"id\":\"6e8b8760-ea95-4e3f-86f6-dee96ab4d721\",\"type\":\"BoxAnnotation\"},{\"attributes\":{\"source\":{\"id\":\"23486373-17db-4564-9ed8-71e24f602297\",\"type\":\"ColumnDataSource\"}},\"id\":\"d11b6e1f-49b8-45a8-8b0f-b143a8a4efdd\",\"type\":\"CDSView\"},{\"attributes\":{\"overlay\":{\"id\":\"6e8b8760-ea95-4e3f-86f6-dee96ab4d721\",\"type\":\"BoxAnnotation\"}},\"id\":\"6c54cc8f-80f6-4b10-bb5e-aceb21b30cef\",\"type\":\"BoxZoomTool\"},{\"attributes\":{\"line_color\":\"olivedrab\",\"line_dash\":[2,4,6,4],\"x\":{\"field\":\"x\"},\"y\":{\"field\":\"y\"}},\"id\":\"bf4e7e84-458f-4af7-9837-f2f1c9e04217\",\"type\":\"Line\"},{\"attributes\":{\"source\":{\"id\":\"17b1a490-5c0a-4d16-8b46-d026d9b28bca\",\"type\":\"ColumnDataSource\"}},\"id\":\"1e0f10f7-103e-4415-8d2c-8da99cf59323\",\"type\":\"CDSView\"},{\"attributes\":{\"callback\":null,\"column_names\":[\"x\",\"y\"],\"data\":{\"x\":{\"__ndarray__\":\"AACA9Mc0dkIAAMC8CDd2QgAAAIVJOXZCAABATYo7dkIAAIAVyz12QgAAwN0LQHZCAAAApkxCdkIAAEBujUR2QgAAgDbORnZCAADA/g5JdkIAAADHT0t2QgAAQI+QTXZCAACAV9FPdkIAAMAfElJ2QgAAAOhSVHZCAABAsJNWdkIAAIB41Fh2QgAAwEAVW3ZCAAAACVZddkIAAEDRll92QgAAgJnXYXZCAADAYRhkdkIAAAAqWWZ2QgAAQPKZaHZCAACAutpqdkIAAMCCG212QgAAAEtcb3ZCAABAE51xdkIAAIDb3XN2QgAAwKMednZCAAAAbF94dkIAAEA0oHp2QgAAgPzgfHZCAADAxCF/dkIAAACNYoF2QgAAQFWjg3ZCAACAHeSFdkIAAMDlJIh2QgAAAK5linZCAABAdqaMdkIAAIA+5452QgAAwAYokXZCAAAAz2iTdkIAAECXqZV2QgAAgF/ql3ZCAADAJyuadkIAAADwa5x2QgAAQLisnnZCAABAuKyedkIAAADwa5x2QgAAwCcrmnZCAACAX+qXdkIAAECXqZV2QgAAAM9ok3ZCAADABiiRdkIAAIA+5452QgAAQHamjHZCAAAArmWKdkIAAMDlJIh2QgAAgB3khXZCAABAVaODdkIAAACNYoF2QgAAwMQhf3ZCAACA/OB8dkIAAEA0oHp2QgAAAGxfeHZCAADAox52dkIAAIDb3XN2QgAAQBOdcXZCAAAAS1xvdkIAAMCCG212QgAAgLraanZCAABA8plodkIAAAAqWWZ2QgAAwGEYZHZCAACAmddhdkIAAEDRll92QgAAAAlWXXZCAADAQBVbdkIAAIB41Fh2QgAAQLCTVnZCAAAA6FJUdkIAAMAfElJ2QgAAgFfRT3ZCAABAj5BNdkIAAADHT0t2QgAAwP4OSXZCAACANs5GdkIAAEBujUR2QgAAAKZMQnZCAADA3QtAdkIAAIAVyz12QgAAQE2KO3ZCAAAAhUk5dkIAAMC8CDd2QgAAgPTHNHZC\",\"dtype\":\"float64\",\"shape\":[96]},\"y\":{\"__ndarray__\":\"kB34LoBHVUCgMmMUC4RVQK5HzvmVwFVAvVw53yD9VUDMcaTEqzlWQNqGD6o2dlZA6pt6j8GyVkD4sOV0TO9WQIxWRM8hPVdA2vqTKGyMV0BDW0U5fdlXQCc1ybmmIFhAq1DwXz1eWEDyj/Cj/49YQHS9KZVqtlhAEMcc/EvSWECpmkqhceRYQCImNE2p7VhAXFdayMDuWEA4HD7bhehYQJZiYE7G21hAXBhC6k/JWEBmK2R38LFYQJyJR751llhA9T4c6q53WECwC84Di1ZYQFJkBPIYNFhAeNsV/mgRWEC8A1lxi+9XQL5vJJWQz1dAGbLOsoiyV0BsXa4ThJlXQFAEGgGThVdAYjloxMV3V0BFj++mLHFXQI6YBvLXcldA3OcD79d9V0DODz7nPJNXQAKjCyQXtFdADjTD7nbhV0CUVbuQbBxYQCx3V/pdYVhAxpjzY0+mWEBeuo/NQOtYQPbbKzcyMFlAkP3HoCN1WUAoH2QKFbpZQMFAAHQG/1lAe6RVcevFX0Bqe0Hwp3FfQFpSLW9kHV9ASikZ7iDJXkA6AAVt3XReQCrX8OuZIF5AGq7calbMXUAKhcjpEnhdQC4j0iMDMF1A5nGcD474XECKob3hZtBcQIDiy85AtlxAIGVdC8+oXEDHWQjMxKZcQM7wYkXVrlxAmloDrLO/XECEx380E9hcQOVnbhOn9lxAIGxlfSIaXUCQBPumOEFdQJJhxcScal1AgLNaCwKVXUC6KlGvG79dQJ33PuWc511Ahv06kzoNXkAMNeyR0C5eQACsiaxhS15AKiPLX/JhXkBgW2goh3FeQHAVGYMkeV5AKhKV7M53XkBdEpThimxeQNzWzd5cVl5AciD6YEk0XkDwr9DkVAVeQCdGCeeDyF1AEwi9jT19XUD9i8a3QyZdQLT5e2oSyFxAjtuoUilnXEDauxgdCAhcQMhMsgQJvltAtt1L7Al0W0CkbuXTCipbQJH/frsL4FpAgJAYowyWWkBuIbKKDUxaQFyyS3IOAlpA\",\"dtype\":\"float64\",\"shape\":[96]}}},\"id\":\"2490886f-0284-400d-a527-fc7d4df2f7c3\",\"type\":\"ColumnDataSource\"},{\"attributes\":{\"source\":{\"id\":\"af50968d-ec2a-42a3-8ec9-90629c513100\",\"type\":\"ColumnDataSource\"}},\"id\":\"55c083f6-a00b-42ac-b189-86fd31038d7f\",\"type\":\"CDSView\"},{\"attributes\":{},\"id\":\"41f8fb77-6208-4e50-9984-67e6414db6dc\",\"type\":\"WheelZoomTool\"}],\"root_ids\":[\"323326eb-b3e1-4cdb-8890-860da855e97a\"]},\"title\":\"Bokeh Application\",\"version\":\"0.12.13\"}};\n",
       "  var render_items = [{\"docid\":\"b5f0d176-5bd8-44ce-a699-29b3fcc0480c\",\"elementid\":\"3cac993e-080f-48a0-8ee6-d7c00fa505a1\",\"modelid\":\"323326eb-b3e1-4cdb-8890-860da855e97a\",\"notebook_comms_target\":\"04015771-211a-4777-a914-67cf092f64a3\"}];\n",
       "  root.Bokeh.embed.embed_items_notebook(docs_json, render_items);\n",
       "\n",
       "  }\n",
       "  if (root.Bokeh !== undefined) {\n",
       "    embed_document(root);\n",
       "  } else {\n",
       "    var attempts = 0;\n",
       "    var timer = setInterval(function(root) {\n",
       "      if (root.Bokeh !== undefined) {\n",
       "        embed_document(root);\n",
       "        clearInterval(timer);\n",
       "      }\n",
       "      attempts++;\n",
       "      if (attempts > 100) {\n",
       "        console.log(\"Bokeh: ERROR: Unable to run BokehJS code because BokehJS library is missing\")\n",
       "        clearInterval(timer);\n",
       "      }\n",
       "    }, 10, root)\n",
       "  }\n",
       "})(window);"
      ],
      "application/vnd.bokehjs_exec.v0+json": ""
     },
     "metadata": {
      "application/vnd.bokehjs_exec.v0+json": {
       "id": "323326eb-b3e1-4cdb-8890-860da855e97a"
      }
     },
     "output_type": "display_data"
    }
   ],
   "source": [
    "# weekly sample\n",
    "sample_data = json.load(open('stockdatafromav.json'))\n",
    "sample_data['granularity'] = 'weekly'\n",
    "# 90 sensitivity\n",
    "build_figure(sample_data,90)"
   ]
  },
  {
   "cell_type": "markdown",
   "metadata": {},
   "source": [
    "Show Batch Anomaly Detection with 95% sensitivity (with modified data to show anomal detection points)\n",
    "\n",
    "* \"timestamp\":\"2018-07-13T00:00:00Z\",\"value\":105 > \"timestamp\":\"2018-07-13T00:00:00Z\",\"value\":88\n",
    "* \"timestamp\":\"2018-09-14T00:00:00Z\",\"value\":113 > \"timestamp\":\"2018-09-14T00:00:00Z\",\"value\":128"
   ]
  },
  {
   "cell_type": "code",
   "execution_count": 9,
   "metadata": {},
   "outputs": [
    {
     "data": {
      "text/html": [
       "\n",
       "<div class=\"bk-root\">\n",
       "    <div class=\"bk-plotdiv\" id=\"9e1a76d0-6da9-40f3-8764-4cee43cd4219\"></div>\n",
       "</div>"
      ]
     },
     "metadata": {},
     "output_type": "display_data"
    },
    {
     "data": {
      "application/javascript": [
       "(function(root) {\n",
       "  function embed_document(root) {\n",
       "    \n",
       "  var docs_json = {\"bc6dd5a7-f2d0-4b78-82d3-dfe3a01690e4\":{\"roots\":{\"references\":[{\"attributes\":{\"formatter\":{\"id\":\"9d607fe6-aad5-4790-be65-fe9b0b8bb58d\",\"type\":\"DatetimeTickFormatter\"},\"plot\":{\"id\":\"265178b8-edb2-4167-acb5-ab897fc5d9a4\",\"subtype\":\"Figure\",\"type\":\"Plot\"},\"ticker\":{\"id\":\"0052abd6-584f-4026-94cf-2183b2cd0317\",\"type\":\"DatetimeTicker\"}},\"id\":\"cb732181-d048-4cca-b5dc-6fff2640b239\",\"type\":\"DatetimeAxis\"},{\"attributes\":{},\"id\":\"accc7ac0-c6df-4624-8320-812bb119cb7f\",\"type\":\"HelpTool\"},{\"attributes\":{\"plot\":{\"id\":\"265178b8-edb2-4167-acb5-ab897fc5d9a4\",\"subtype\":\"Figure\",\"type\":\"Plot\"},\"ticker\":{\"id\":\"0052abd6-584f-4026-94cf-2183b2cd0317\",\"type\":\"DatetimeTicker\"}},\"id\":\"2e9e9608-4396-426c-82fe-ec49a695ebe7\",\"type\":\"Grid\"},{\"attributes\":{\"data_source\":{\"id\":\"3a0791d0-e0ec-4505-8074-4dcd3224d48d\",\"type\":\"ColumnDataSource\"},\"glyph\":{\"id\":\"a80ba2b1-282c-40f5-9b32-53becc58af3d\",\"type\":\"Line\"},\"hover_glyph\":null,\"muted_glyph\":null,\"nonselection_glyph\":{\"id\":\"14e06aeb-3737-4205-bb4b-0ed6dad2aec4\",\"type\":\"Line\"},\"selection_glyph\":null,\"view\":{\"id\":\"5433b5b6-8c92-428d-a2a3-6687f8e7dc3c\",\"type\":\"CDSView\"}},\"id\":\"4d9a274c-1cb6-49c5-a99f-9e35d682fc45\",\"type\":\"GlyphRenderer\"},{\"attributes\":{\"background_fill_alpha\":{\"value\":0.1},\"items\":[{\"id\":\"245fae6b-644b-4b30-8fa9-1933fe984224\",\"type\":\"LegendItem\"},{\"id\":\"36c983d8-bfb6-455d-b37c-3e49ff7fa27a\",\"type\":\"LegendItem\"},{\"id\":\"2e9c5064-f370-4ba0-a129-dd654a210743\",\"type\":\"LegendItem\"}],\"plot\":{\"id\":\"265178b8-edb2-4167-acb5-ab897fc5d9a4\",\"subtype\":\"Figure\",\"type\":\"Plot\"}},\"id\":\"323e7bae-f1a1-4696-8d6b-422041adfd17\",\"type\":\"Legend\"},{\"attributes\":{\"formatter\":{\"id\":\"e7a296b8-49e3-4c74-87e8-c0eda962b3cd\",\"type\":\"BasicTickFormatter\"},\"plot\":{\"id\":\"265178b8-edb2-4167-acb5-ab897fc5d9a4\",\"subtype\":\"Figure\",\"type\":\"Plot\"},\"ticker\":{\"id\":\"01f445ea-75f5-42ef-b4c6-0c121f3d7d57\",\"type\":\"BasicTicker\"}},\"id\":\"93874ab4-b367-47cc-a259-abc911758e7b\",\"type\":\"LinearAxis\"},{\"attributes\":{\"label\":{\"value\":\"ExpectedValue\"},\"renderers\":[{\"id\":\"4d9a274c-1cb6-49c5-a99f-9e35d682fc45\",\"type\":\"GlyphRenderer\"}]},\"id\":\"2e9c5064-f370-4ba0-a129-dd654a210743\",\"type\":\"LegendItem\"},{\"attributes\":{\"line_alpha\":0.1,\"line_color\":\"#1f77b4\",\"line_dash\":[2,4,6,4],\"x\":{\"field\":\"x\"},\"y\":{\"field\":\"y\"}},\"id\":\"14e06aeb-3737-4205-bb4b-0ed6dad2aec4\",\"type\":\"Line\"},{\"attributes\":{},\"id\":\"e3d92d3f-c83a-4526-8e56-f11fea276338\",\"type\":\"YearsTicker\"},{\"attributes\":{},\"id\":\"ec4fc6e0-09b5-423f-86f2-35b0da7141a8\",\"type\":\"ResetTool\"},{\"attributes\":{\"source\":{\"id\":\"3a0791d0-e0ec-4505-8074-4dcd3224d48d\",\"type\":\"ColumnDataSource\"}},\"id\":\"5433b5b6-8c92-428d-a2a3-6687f8e7dc3c\",\"type\":\"CDSView\"},{\"attributes\":{\"fill_color\":{\"value\":\"tomato\"},\"line_color\":{\"value\":\"tomato\"},\"size\":{\"units\":\"screen\",\"value\":5},\"x\":{\"field\":\"x\"},\"y\":{\"field\":\"y\"}},\"id\":\"8d44c6f6-ecae-4fd0-8549-a16f450f9202\",\"type\":\"Circle\"},{\"attributes\":{\"label\":{\"value\":\"Value\"},\"renderers\":[{\"id\":\"2546248f-cdf1-4f1c-867a-b5f41799de9f\",\"type\":\"GlyphRenderer\"}]},\"id\":\"36c983d8-bfb6-455d-b37c-3e49ff7fa27a\",\"type\":\"LegendItem\"},{\"attributes\":{\"fill_alpha\":0.1,\"fill_color\":\"#1f77b4\",\"line_alpha\":0.1,\"line_color\":\"#1f77b4\",\"x\":{\"field\":\"x\"},\"y\":{\"field\":\"y\"}},\"id\":\"deec58a2-86b2-4e63-80b5-1feddaccfb66\",\"type\":\"Patch\"},{\"attributes\":{\"days\":[1,4,7,10,13,16,19,22,25,28]},\"id\":\"1dd95d66-0d4e-43fb-bfd0-b36af7b51add\",\"type\":\"DaysTicker\"},{\"attributes\":{\"callback\":null,\"column_names\":[\"x\",\"y\"],\"data\":{\"x\":{\"__ndarray__\":\"AACA9Mc0dkIAAMC8CDd2QgAAAIVJOXZCAABATYo7dkIAAIAVyz12QgAAwN0LQHZCAAAApkxCdkIAAEBujUR2QgAAgDbORnZCAADA/g5JdkIAAADHT0t2QgAAQI+QTXZCAACAV9FPdkIAAMAfElJ2QgAAAOhSVHZCAABAsJNWdkIAAIB41Fh2QgAAwEAVW3ZCAAAACVZddkIAAEDRll92QgAAgJnXYXZCAADAYRhkdkIAAAAqWWZ2QgAAQPKZaHZCAACAutpqdkIAAMCCG212QgAAAEtcb3ZCAABAE51xdkIAAIDb3XN2QgAAwKMednZCAAAAbF94dkIAAEA0oHp2QgAAgPzgfHZCAADAxCF/dkIAAACNYoF2QgAAQFWjg3ZCAACAHeSFdkIAAMDlJIh2QgAAAK5linZCAABAdqaMdkIAAIA+5452QgAAwAYokXZCAAAAz2iTdkIAAECXqZV2QgAAgF/ql3ZCAADAJyuadkIAAADwa5x2QgAAQLisnnZC\",\"dtype\":\"float64\",\"shape\":[48]},\"y\":{\"__ndarray__\":\"RScriA4aWEDCg7tCYlNYQEDgS/21jFhAvjzctwnGWEA7mWxyXf9YQLn1/CyxOFlANlKN5wRyWUC0rh2iWKtZQDELrlys5FlAr2c+FwAeWkCCBiaLIHJaQAWsatsFwFpA3RGCgbIDW0Bv0Cx4rzpbQOhHaCV8ZVtARmdkEu+EW0B+HVHI3plbQI1ZXtAhpVtAcAq8s46nW0AZH5r7+6FbQIiGKDFAlVtAtS+X3TGCW0CWCRaKp2lbQC4D1b93TFtA/upP63orW0B3pdPktAdbQOssfvBU4lpAOlu5NYy8WkBCCu/bi5daQOkTiQqFdFpAD1Lx6KhUWkCVnpGeKDlaQGZmZmZmRldAPsohLQAUWkAoXeVUugxaQPJliPGUDlpAgr50KsEaWkC2QBQncDJaQHTG0A7TVlpAlikUCRuJWkC4jFcDY7taQNrvmv2q7VpA/FLe9/IfW0AetiHyOlJbQDMzMzMzc15AZmZmZma2XkCamZmZmfleQAAAAAAAgF9A\",\"dtype\":\"float64\",\"shape\":[48]}}},\"id\":\"3a0791d0-e0ec-4505-8074-4dcd3224d48d\",\"type\":\"ColumnDataSource\"},{\"attributes\":{\"data_source\":{\"id\":\"707084a4-1075-4c4c-bf27-33fbfb8b00c0\",\"type\":\"ColumnDataSource\"},\"glyph\":{\"id\":\"8d44c6f6-ecae-4fd0-8549-a16f450f9202\",\"type\":\"Circle\"},\"hover_glyph\":null,\"muted_glyph\":null,\"nonselection_glyph\":{\"id\":\"dfc1bdf5-9fd8-4d19-a873-272418a363f7\",\"type\":\"Circle\"},\"selection_glyph\":null,\"view\":{\"id\":\"9d680bc5-e6fd-459c-995c-1f9aeed6135c\",\"type\":\"CDSView\"}},\"id\":\"1b58a63e-3026-43f5-a454-0f6183978d3e\",\"type\":\"GlyphRenderer\"},{\"attributes\":{\"fill_alpha\":0.5,\"fill_color\":\"#bdd7e7\",\"line_color\":\"#bdd7e7\",\"x\":{\"field\":\"x\"},\"y\":{\"field\":\"y\"}},\"id\":\"24acbcfa-0701-44fa-b20e-179398b092e2\",\"type\":\"Patch\"},{\"attributes\":{\"callback\":null,\"column_names\":[\"x\",\"y\"],\"data\":{\"x\":{\"__ndarray__\":\"AACA9Mc0dkIAAMC8CDd2QgAAAIVJOXZCAABATYo7dkIAAIAVyz12QgAAwN0LQHZCAAAApkxCdkIAAEBujUR2QgAAgDbORnZCAADA/g5JdkIAAADHT0t2QgAAQI+QTXZCAACAV9FPdkIAAMAfElJ2QgAAAOhSVHZCAABAsJNWdkIAAIB41Fh2QgAAwEAVW3ZCAAAACVZddkIAAEDRll92QgAAgJnXYXZCAADAYRhkdkIAAAAqWWZ2QgAAQPKZaHZCAACAutpqdkIAAMCCG212QgAAAEtcb3ZCAABAE51xdkIAAIDb3XN2QgAAwKMednZCAAAAbF94dkIAAEA0oHp2QgAAgPzgfHZCAADAxCF/dkIAAACNYoF2QgAAQFWjg3ZCAACAHeSFdkIAAMDlJIh2QgAAAK5linZCAABAdqaMdkIAAIA+5452QgAAwAYokXZCAAAAz2iTdkIAAECXqZV2QgAAgF/ql3ZCAADAJyuadkIAAADwa5x2QgAAQLisnnZC\",\"dtype\":\"float64\",\"shape\":[48]},\"y\":[98,96,98,101,102,100,100,99,101,88,106,108,108,109,108,108,112,108,128,114,114,112,110,109,107,106,110,108,103,111,105,106,98,100,102,103,108,107,103,106,108,111,113,111,116,117,118,120]}},\"id\":\"c455823b-263a-4940-bc14-a95da95e09c8\",\"type\":\"ColumnDataSource\"},{\"attributes\":{\"months\":[0,2,4,6,8,10]},\"id\":\"bf2a109b-3fe5-4002-ba5e-399a3ce04d8a\",\"type\":\"MonthsTicker\"},{\"attributes\":{\"source\":{\"id\":\"c455823b-263a-4940-bc14-a95da95e09c8\",\"type\":\"ColumnDataSource\"}},\"id\":\"cac5fdb6-50d1-46ff-b91b-b507fb8126f3\",\"type\":\"CDSView\"},{\"attributes\":{\"months\":[0,1,2,3,4,5,6,7,8,9,10,11]},\"id\":\"897e17ba-5656-48cb-a5e2-ec7fbc69ce9b\",\"type\":\"MonthsTicker\"},{\"attributes\":{\"months\":[0,6]},\"id\":\"1f8c4338-9f82-4dbc-9935-e439331b73f9\",\"type\":\"MonthsTicker\"},{\"attributes\":{},\"id\":\"ecda132c-f695-4020-bc4b-e9ce28ec4a83\",\"type\":\"LinearScale\"},{\"attributes\":{\"source\":{\"id\":\"707084a4-1075-4c4c-bf27-33fbfb8b00c0\",\"type\":\"ColumnDataSource\"}},\"id\":\"9d680bc5-e6fd-459c-995c-1f9aeed6135c\",\"type\":\"CDSView\"},{\"attributes\":{\"days\":[1,2,3,4,5,6,7,8,9,10,11,12,13,14,15,16,17,18,19,20,21,22,23,24,25,26,27,28,29,30,31]},\"id\":\"09336c75-61c8-4706-99af-aff34e2587b8\",\"type\":\"DaysTicker\"},{\"attributes\":{},\"id\":\"9d607fe6-aad5-4790-be65-fe9b0b8bb58d\",\"type\":\"DatetimeTickFormatter\"},{\"attributes\":{\"callback\":null},\"id\":\"f2dec80e-9190-47b0-b1d4-58e8d4e97768\",\"type\":\"DataRange1d\"},{\"attributes\":{\"line_color\":\"#2222aa\",\"x\":{\"field\":\"x\"},\"y\":{\"field\":\"y\"}},\"id\":\"5c131d27-6dcc-4e36-82fc-c868947c2909\",\"type\":\"Line\"},{\"attributes\":{\"callback\":null,\"column_names\":[\"x\",\"y\"],\"data\":{\"x\":[1531440000000.0,1536883200000.0],\"y\":[88,128]}},\"id\":\"707084a4-1075-4c4c-bf27-33fbfb8b00c0\",\"type\":\"ColumnDataSource\"},{\"attributes\":{\"days\":[1,8,15,22]},\"id\":\"b7161a0c-c2b8-47cd-8054-cec85c90c839\",\"type\":\"DaysTicker\"},{\"attributes\":{},\"id\":\"01f445ea-75f5-42ef-b4c6-0c121f3d7d57\",\"type\":\"BasicTicker\"},{\"attributes\":{\"line_alpha\":0.1,\"line_color\":\"#1f77b4\",\"x\":{\"field\":\"x\"},\"y\":{\"field\":\"y\"}},\"id\":\"67207dab-cd8d-4d11-9f26-69c82abf27ec\",\"type\":\"Line\"},{\"attributes\":{\"months\":[0,4,8]},\"id\":\"f4e4af6a-b6dd-47a4-a4b1-5cbbbc93adc0\",\"type\":\"MonthsTicker\"},{\"attributes\":{\"base\":60,\"mantissas\":[1,2,5,10,15,20,30],\"max_interval\":1800000.0,\"min_interval\":1000.0,\"num_minor_ticks\":0},\"id\":\"88812ab8-46b2-4d23-917a-718fe401bf0b\",\"type\":\"AdaptiveTicker\"},{\"attributes\":{\"overlay\":{\"id\":\"48fef7f0-1890-4ff4-a71f-04a65a59210d\",\"type\":\"BoxAnnotation\"}},\"id\":\"9bba5ae8-1e32-499a-8c62-35b20e471897\",\"type\":\"BoxZoomTool\"},{\"attributes\":{\"fill_alpha\":{\"value\":0.1},\"fill_color\":{\"value\":\"#1f77b4\"},\"line_alpha\":{\"value\":0.1},\"line_color\":{\"value\":\"#1f77b4\"},\"size\":{\"units\":\"screen\",\"value\":5},\"x\":{\"field\":\"x\"},\"y\":{\"field\":\"y\"}},\"id\":\"dfc1bdf5-9fd8-4d19-a873-272418a363f7\",\"type\":\"Circle\"},{\"attributes\":{\"mantissas\":[1,2,5],\"max_interval\":500.0,\"num_minor_ticks\":0},\"id\":\"a81348c4-674d-410e-b0c2-5416406f0333\",\"type\":\"AdaptiveTicker\"},{\"attributes\":{\"below\":[{\"id\":\"cb732181-d048-4cca-b5dc-6fff2640b239\",\"type\":\"DatetimeAxis\"}],\"left\":[{\"id\":\"93874ab4-b367-47cc-a259-abc911758e7b\",\"type\":\"LinearAxis\"}],\"plot_width\":800,\"renderers\":[{\"id\":\"cb732181-d048-4cca-b5dc-6fff2640b239\",\"type\":\"DatetimeAxis\"},{\"id\":\"2e9e9608-4396-426c-82fe-ec49a695ebe7\",\"type\":\"Grid\"},{\"id\":\"93874ab4-b367-47cc-a259-abc911758e7b\",\"type\":\"LinearAxis\"},{\"id\":\"40e9d09e-03c0-4923-a7e6-18d26af5b94e\",\"type\":\"Grid\"},{\"id\":\"48fef7f0-1890-4ff4-a71f-04a65a59210d\",\"type\":\"BoxAnnotation\"},{\"id\":\"323e7bae-f1a1-4696-8d6b-422041adfd17\",\"type\":\"Legend\"},{\"id\":\"8a2e3bac-efcb-48ce-85b4-d61b5d3856b6\",\"type\":\"GlyphRenderer\"},{\"id\":\"2546248f-cdf1-4f1c-867a-b5f41799de9f\",\"type\":\"GlyphRenderer\"},{\"id\":\"4d9a274c-1cb6-49c5-a99f-9e35d682fc45\",\"type\":\"GlyphRenderer\"},{\"id\":\"1b58a63e-3026-43f5-a454-0f6183978d3e\",\"type\":\"GlyphRenderer\"}],\"title\":{\"id\":\"ca671e7c-3994-440c-887f-75388beed587\",\"type\":\"Title\"},\"toolbar\":{\"id\":\"b941b098-be8a-4688-8fe0-71b1c0d4fdc1\",\"type\":\"Toolbar\"},\"x_range\":{\"id\":\"f2dec80e-9190-47b0-b1d4-58e8d4e97768\",\"type\":\"DataRange1d\"},\"x_scale\":{\"id\":\"4460be12-f97e-49bc-9c6e-f265d34918d3\",\"type\":\"LinearScale\"},\"y_range\":{\"id\":\"133fe48d-ee57-4676-a547-d2c57fc3d689\",\"type\":\"DataRange1d\"},\"y_scale\":{\"id\":\"ecda132c-f695-4020-bc4b-e9ce28ec4a83\",\"type\":\"LinearScale\"}},\"id\":\"265178b8-edb2-4167-acb5-ab897fc5d9a4\",\"subtype\":\"Figure\",\"type\":\"Plot\"},{\"attributes\":{\"days\":[1,15]},\"id\":\"2b017155-5b63-4a22-9ce3-2ec7842656bf\",\"type\":\"DaysTicker\"},{\"attributes\":{\"bottom_units\":\"screen\",\"fill_alpha\":{\"value\":0.5},\"fill_color\":{\"value\":\"lightgrey\"},\"left_units\":\"screen\",\"level\":\"overlay\",\"line_alpha\":{\"value\":1.0},\"line_color\":{\"value\":\"black\"},\"line_dash\":[4,4],\"line_width\":{\"value\":2},\"plot\":null,\"render_mode\":\"css\",\"right_units\":\"screen\",\"top_units\":\"screen\"},\"id\":\"48fef7f0-1890-4ff4-a71f-04a65a59210d\",\"type\":\"BoxAnnotation\"},{\"attributes\":{\"dimension\":1,\"plot\":{\"id\":\"265178b8-edb2-4167-acb5-ab897fc5d9a4\",\"subtype\":\"Figure\",\"type\":\"Plot\"},\"ticker\":{\"id\":\"01f445ea-75f5-42ef-b4c6-0c121f3d7d57\",\"type\":\"BasicTicker\"}},\"id\":\"40e9d09e-03c0-4923-a7e6-18d26af5b94e\",\"type\":\"Grid\"},{\"attributes\":{\"data_source\":{\"id\":\"c455823b-263a-4940-bc14-a95da95e09c8\",\"type\":\"ColumnDataSource\"},\"glyph\":{\"id\":\"5c131d27-6dcc-4e36-82fc-c868947c2909\",\"type\":\"Line\"},\"hover_glyph\":null,\"muted_glyph\":null,\"nonselection_glyph\":{\"id\":\"67207dab-cd8d-4d11-9f26-69c82abf27ec\",\"type\":\"Line\"},\"selection_glyph\":null,\"view\":{\"id\":\"cac5fdb6-50d1-46ff-b91b-b507fb8126f3\",\"type\":\"CDSView\"}},\"id\":\"2546248f-cdf1-4f1c-867a-b5f41799de9f\",\"type\":\"GlyphRenderer\"},{\"attributes\":{\"callback\":null,\"column_names\":[\"x\",\"y\"],\"data\":{\"x\":{\"__ndarray__\":\"AACA9Mc0dkIAAMC8CDd2QgAAAIVJOXZCAABATYo7dkIAAIAVyz12QgAAwN0LQHZCAAAApkxCdkIAAEBujUR2QgAAgDbORnZCAADA/g5JdkIAAADHT0t2QgAAQI+QTXZCAACAV9FPdkIAAMAfElJ2QgAAAOhSVHZCAABAsJNWdkIAAIB41Fh2QgAAwEAVW3ZCAAAACVZddkIAAEDRll92QgAAgJnXYXZCAADAYRhkdkIAAAAqWWZ2QgAAQPKZaHZCAACAutpqdkIAAMCCG212QgAAAEtcb3ZCAABAE51xdkIAAIDb3XN2QgAAwKMednZCAAAAbF94dkIAAEA0oHp2QgAAgPzgfHZCAADAxCF/dkIAAACNYoF2QgAAQFWjg3ZCAACAHeSFdkIAAMDlJIh2QgAAAK5linZCAABAdqaMdkIAAIA+5452QgAAwAYokXZCAAAAz2iTdkIAAECXqZV2QgAAgF/ql3ZCAADAJyuadkIAAADwa5x2QgAAQLisnnZCAABAuKyedkIAAADwa5x2QgAAwCcrmnZCAACAX+qXdkIAAECXqZV2QgAAAM9ok3ZCAADABiiRdkIAAIA+5452QgAAQHamjHZCAAAArmWKdkIAAMDlJIh2QgAAgB3khXZCAABAVaODdkIAAACNYoF2QgAAwMQhf3ZCAACA/OB8dkIAAEA0oHp2QgAAAGxfeHZCAADAox52dkIAAIDb3XN2QgAAQBOdcXZCAAAAS1xvdkIAAMCCG212QgAAgLraanZCAABA8plodkIAAAAqWWZ2QgAAwGEYZHZCAACAmddhdkIAAEDRll92QgAAAAlWXXZCAADAQBVbdkIAAIB41Fh2QgAAQLCTVnZCAAAA6FJUdkIAAMAfElJ2QgAAgFfRT3ZCAABAj5BNdkIAAADHT0t2QgAAwP4OSXZCAACANs5GdkIAAEBujUR2QgAAAKZMQnZCAADA3QtAdkIAAIAVyz12QgAAQE2KO3ZCAAAAhUk5dkIAAMC8CDd2QgAAgPTHNHZC\",\"dtype\":\"float64\",\"shape\":[96]},\"y\":{\"__ndarray__\":\"6P4ozo3lVkDFVmW/AxxXQKOuobB5UldAgQbeoe+IV0BeXhqTZb9XQD22VoTb9VdAGg6TdVEsWED4Zc9mx2JYQNW9C1g9mVhAsxVISbPPWED8Upfqnh9ZQAW9CyqfaVlAX/ehlOmpWUDQkiqyJt5ZQOnd74nPBlpAT5US668kWkCedbOkkzhaQHk784VGQ1pAhKPyXZRFWkBYatL7SEBaQJtMsy4wNFpA7Aa2xRUiWkDoVfuPxQpaQDj2o1wL71lAcVLyxbTPWUDLdi+muK1ZQBIRqxc3illAEX3W/1FmWUCMFiNEK0NZQFA5AsrkIVlAKEHldqADWUDaiT0wgOlYQBSuR+F6HFZA7kwTXjPGWEDmfnOdSr9YQNlgDn8NwVhAlU5V6J3MWEDgo7m+HeNYQIi8rOeuBVlATvSfSHM1WUAVLJOpN2VZQNxjhgr8lFlAo5t5a8DEWUBp02zMhPRZQD0K16Nw7VxA4XoUrkctXUCG61G4Hm1dQM3MzMzM7F1AmpmZmZmJYEDXo3A9CkNgQPYoXI/CH2BAKVyPwvX4X0DTmNYX8a9cQFUKQ4Qle1xA2Huv8FlGXEBb7RtdjhFcQN5eiMnC3FtAYND0NfenW0CM3W6PwoFbQG8ulGzkaFtAC2sCZBxcW0BqO1cMKlpbQI5HMPzMYVtAuB6F61FwWEBQs+UM0YhbQPZi/VqxpVtAgu4PSyXHW0D4/bpz7OtbQGM5nGvGElxAxEhRyXI6XEAj1HcjsWFcQIuDrRBBh1xAJBAGI+SpXEBEvTCEichcQH5YePVN4lxAdcCdM1D2XEDa02H7rgNdQFxxhQmJCV1AoXfJGv0GXUBexe7rKftcQD05tjku5VxA57HgwCjEXEAODi8+OJdcQFssYm57XVxABZvJjGwWXEAIurQrosRbQKu5NOVMbFtAjVhQYRswW0Bw92vd6fNaQFKWh1m4t1pANTWj1YZ7WkAY1L5RVT9aQPty2s0jA1pA3RH2SfLGWUC/sBHGwIpZQKJPLUKPTllA\",\"dtype\":\"float64\",\"shape\":[96]}}},\"id\":\"8fd95a2c-92a5-4783-bf4b-a1e26ba08ca5\",\"type\":\"ColumnDataSource\"},{\"attributes\":{\"plot\":null,\"text\":\"Batch Anomaly Detection (95 Sensitvity)\"},\"id\":\"ca671e7c-3994-440c-887f-75388beed587\",\"type\":\"Title\"},{\"attributes\":{},\"id\":\"e7a296b8-49e3-4c74-87e8-c0eda962b3cd\",\"type\":\"BasicTickFormatter\"},{\"attributes\":{},\"id\":\"4460be12-f97e-49bc-9c6e-f265d34918d3\",\"type\":\"LinearScale\"},{\"attributes\":{\"callback\":null},\"id\":\"133fe48d-ee57-4676-a547-d2c57fc3d689\",\"type\":\"DataRange1d\"},{\"attributes\":{},\"id\":\"bea12ced-55d0-4977-bfbf-71b86f9c7f0c\",\"type\":\"SaveTool\"},{\"attributes\":{\"line_color\":\"olivedrab\",\"line_dash\":[2,4,6,4],\"x\":{\"field\":\"x\"},\"y\":{\"field\":\"y\"}},\"id\":\"a80ba2b1-282c-40f5-9b32-53becc58af3d\",\"type\":\"Line\"},{\"attributes\":{},\"id\":\"35f4082d-2230-4b0c-b22f-a2581117bb0c\",\"type\":\"PanTool\"},{\"attributes\":{\"data_source\":{\"id\":\"8fd95a2c-92a5-4783-bf4b-a1e26ba08ca5\",\"type\":\"ColumnDataSource\"},\"glyph\":{\"id\":\"24acbcfa-0701-44fa-b20e-179398b092e2\",\"type\":\"Patch\"},\"hover_glyph\":null,\"muted_glyph\":null,\"nonselection_glyph\":{\"id\":\"deec58a2-86b2-4e63-80b5-1feddaccfb66\",\"type\":\"Patch\"},\"selection_glyph\":null,\"view\":{\"id\":\"7e6e40cf-0661-4ed6-ac07-8e98a6b9a5c7\",\"type\":\"CDSView\"}},\"id\":\"8a2e3bac-efcb-48ce-85b4-d61b5d3856b6\",\"type\":\"GlyphRenderer\"},{\"attributes\":{\"label\":{\"value\":\"Boundary\"},\"renderers\":[{\"id\":\"8a2e3bac-efcb-48ce-85b4-d61b5d3856b6\",\"type\":\"GlyphRenderer\"}]},\"id\":\"245fae6b-644b-4b30-8fa9-1933fe984224\",\"type\":\"LegendItem\"},{\"attributes\":{\"active_drag\":\"auto\",\"active_inspect\":\"auto\",\"active_scroll\":\"auto\",\"active_tap\":\"auto\",\"tools\":[{\"id\":\"35f4082d-2230-4b0c-b22f-a2581117bb0c\",\"type\":\"PanTool\"},{\"id\":\"c54aac05-6046-4d5f-b22b-bb675830d14b\",\"type\":\"WheelZoomTool\"},{\"id\":\"9bba5ae8-1e32-499a-8c62-35b20e471897\",\"type\":\"BoxZoomTool\"},{\"id\":\"bea12ced-55d0-4977-bfbf-71b86f9c7f0c\",\"type\":\"SaveTool\"},{\"id\":\"ec4fc6e0-09b5-423f-86f2-35b0da7141a8\",\"type\":\"ResetTool\"},{\"id\":\"accc7ac0-c6df-4624-8320-812bb119cb7f\",\"type\":\"HelpTool\"}]},\"id\":\"b941b098-be8a-4688-8fe0-71b1c0d4fdc1\",\"type\":\"Toolbar\"},{\"attributes\":{\"source\":{\"id\":\"8fd95a2c-92a5-4783-bf4b-a1e26ba08ca5\",\"type\":\"ColumnDataSource\"}},\"id\":\"7e6e40cf-0661-4ed6-ac07-8e98a6b9a5c7\",\"type\":\"CDSView\"},{\"attributes\":{\"base\":24,\"mantissas\":[1,2,4,6,8,12],\"max_interval\":43200000.0,\"min_interval\":3600000.0,\"num_minor_ticks\":0},\"id\":\"c6e6018d-41b3-45c2-937c-66f2266826ce\",\"type\":\"AdaptiveTicker\"},{\"attributes\":{\"num_minor_ticks\":5,\"tickers\":[{\"id\":\"a81348c4-674d-410e-b0c2-5416406f0333\",\"type\":\"AdaptiveTicker\"},{\"id\":\"88812ab8-46b2-4d23-917a-718fe401bf0b\",\"type\":\"AdaptiveTicker\"},{\"id\":\"c6e6018d-41b3-45c2-937c-66f2266826ce\",\"type\":\"AdaptiveTicker\"},{\"id\":\"09336c75-61c8-4706-99af-aff34e2587b8\",\"type\":\"DaysTicker\"},{\"id\":\"1dd95d66-0d4e-43fb-bfd0-b36af7b51add\",\"type\":\"DaysTicker\"},{\"id\":\"b7161a0c-c2b8-47cd-8054-cec85c90c839\",\"type\":\"DaysTicker\"},{\"id\":\"2b017155-5b63-4a22-9ce3-2ec7842656bf\",\"type\":\"DaysTicker\"},{\"id\":\"897e17ba-5656-48cb-a5e2-ec7fbc69ce9b\",\"type\":\"MonthsTicker\"},{\"id\":\"bf2a109b-3fe5-4002-ba5e-399a3ce04d8a\",\"type\":\"MonthsTicker\"},{\"id\":\"f4e4af6a-b6dd-47a4-a4b1-5cbbbc93adc0\",\"type\":\"MonthsTicker\"},{\"id\":\"1f8c4338-9f82-4dbc-9935-e439331b73f9\",\"type\":\"MonthsTicker\"},{\"id\":\"e3d92d3f-c83a-4526-8e56-f11fea276338\",\"type\":\"YearsTicker\"}]},\"id\":\"0052abd6-584f-4026-94cf-2183b2cd0317\",\"type\":\"DatetimeTicker\"},{\"attributes\":{},\"id\":\"c54aac05-6046-4d5f-b22b-bb675830d14b\",\"type\":\"WheelZoomTool\"}],\"root_ids\":[\"265178b8-edb2-4167-acb5-ab897fc5d9a4\"]},\"title\":\"Bokeh Application\",\"version\":\"0.12.13\"}};\n",
       "  var render_items = [{\"docid\":\"bc6dd5a7-f2d0-4b78-82d3-dfe3a01690e4\",\"elementid\":\"9e1a76d0-6da9-40f3-8764-4cee43cd4219\",\"modelid\":\"265178b8-edb2-4167-acb5-ab897fc5d9a4\",\"notebook_comms_target\":\"cd385c15-521c-47b7-89fc-191961832a1a\"}];\n",
       "  root.Bokeh.embed.embed_items_notebook(docs_json, render_items);\n",
       "\n",
       "  }\n",
       "  if (root.Bokeh !== undefined) {\n",
       "    embed_document(root);\n",
       "  } else {\n",
       "    var attempts = 0;\n",
       "    var timer = setInterval(function(root) {\n",
       "      if (root.Bokeh !== undefined) {\n",
       "        embed_document(root);\n",
       "        clearInterval(timer);\n",
       "      }\n",
       "      attempts++;\n",
       "      if (attempts > 100) {\n",
       "        console.log(\"Bokeh: ERROR: Unable to run BokehJS code because BokehJS library is missing\")\n",
       "        clearInterval(timer);\n",
       "      }\n",
       "    }, 10, root)\n",
       "  }\n",
       "})(window);"
      ],
      "application/vnd.bokehjs_exec.v0+json": ""
     },
     "metadata": {
      "application/vnd.bokehjs_exec.v0+json": {
       "id": "265178b8-edb2-4167-acb5-ab897fc5d9a4"
      }
     },
     "output_type": "display_data"
    }
   ],
   "source": [
    "# weekly sample\n",
    "sample_data = json.load(open('stockdatafromav_modified.json'))\n",
    "sample_data['granularity'] = 'weekly'\n",
    "# 95 sensitivity\n",
    "build_figure(sample_data,95)"
   ]
  },
  {
   "cell_type": "markdown",
   "metadata": {},
   "source": [
    "END"
   ]
  }
 ],
 "metadata": {
  "kernelspec": {
   "display_name": "Python 3",
   "language": "python",
   "name": "python3"
  },
  "language_info": {
   "codemirror_mode": {
    "name": "ipython",
    "version": 3
   },
   "file_extension": ".py",
   "mimetype": "text/x-python",
   "name": "python",
   "nbconvert_exporter": "python",
   "pygments_lexer": "ipython3",
   "version": "3.6.4"
  }
 },
 "nbformat": 4,
 "nbformat_minor": 2
}
